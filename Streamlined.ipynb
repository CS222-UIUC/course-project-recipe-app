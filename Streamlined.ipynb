{
  "cells": [
    {
      "cell_type": "markdown",
      "metadata": {
        "id": "view-in-github",
        "colab_type": "text"
      },
      "source": [
        "<a href=\"https://colab.research.google.com/github/CS222-UIUC/course-project-recipe-app/blob/crc1200-Model-Update/Streamlined.ipynb\" target=\"_parent\"><img src=\"https://colab.research.google.com/assets/colab-badge.svg\" alt=\"Open In Colab\"/></a>"
      ]
    },
    {
      "cell_type": "code",
      "execution_count": null,
      "metadata": {
        "id": "68eMertgIxaB"
      },
      "outputs": [],
      "source": [
        "# clone darknet repo\n",
        "!git clone https://github.com/AlexeyAB/darknet"
      ]
    },
    {
      "cell_type": "code",
      "execution_count": null,
      "metadata": {
        "colab": {
          "base_uri": "https://localhost:8080/"
        },
        "id": "xym8_m8CIyXK",
        "outputId": "61f06b6c-5610-4cbb-83e5-c14eff7ebe9e"
      },
      "outputs": [
        {
          "output_type": "stream",
          "name": "stdout",
          "text": [
            "/content/darknet\n"
          ]
        }
      ],
      "source": [
        "# change makefile to have GPU and OPENCV enabled\n",
        "%cd darknet\n",
        "!sed -i 's/OPENCV=0/OPENCV=1/' Makefile\n",
        "!sed -i 's/GPU=0/GPU=1/' Makefile\n",
        "!sed -i 's/CUDNN=0/CUDNN=1/' Makefile\n",
        "!sed -i 's/CUDNN_HALF=0/CUDNN_HALF=1/' Makefile"
      ]
    },
    {
      "cell_type": "code",
      "execution_count": null,
      "metadata": {
        "id": "5uloUwmUKF05"
      },
      "outputs": [],
      "source": [
        "# verify CUDA\n",
        "!/usr/local/cuda/bin/nvcc --version"
      ]
    },
    {
      "cell_type": "code",
      "execution_count": null,
      "metadata": {
        "id": "q2Jjv0yRKLPe"
      },
      "outputs": [],
      "source": [
        "# make darknet (builds darknet so that you can then use the darknet executable file to run or train object detectors)\n",
        "!make"
      ]
    },
    {
      "cell_type": "code",
      "execution_count": null,
      "metadata": {
        "id": "G9Fv0wjCMPYY"
      },
      "outputs": [],
      "source": [
        "# define helper functions\n",
        "def imShow(path):\n",
        "  import cv2\n",
        "  import matplotlib.pyplot as plt\n",
        "  %matplotlib inline\n",
        "\n",
        "  image = cv2.imread(path)\n",
        "  height, width = image.shape[:2]\n",
        "  resized_image = cv2.resize(image,(3*width, 3*height), interpolation = cv2.INTER_CUBIC)\n",
        "\n",
        "  fig = plt.gcf()\n",
        "  fig.set_size_inches(18, 10)\n",
        "  plt.axis(\"off\")\n",
        "  plt.imshow(cv2.cvtColor(resized_image, cv2.COLOR_BGR2RGB))\n",
        "  plt.show()\n",
        "\n",
        "# use this to upload files\n",
        "def upload():\n",
        "  from google.colab import files\n",
        "  uploaded = files.upload() \n",
        "  for name, data in uploaded.items():\n",
        "    with open(name, 'wb') as f:\n",
        "      f.write(data)\n",
        "      print ('saved file', name)\n",
        "\n",
        "# use this to download a file  \n",
        "def download(path):\n",
        "  from google.colab import files\n",
        "  files.download(path)"
      ]
    },
    {
      "cell_type": "code",
      "execution_count": null,
      "metadata": {
        "colab": {
          "base_uri": "https://localhost:8080/",
          "height": 187
        },
        "id": "32MX4xIkUyKM",
        "outputId": "b32f4e52-69af-42cc-cdbe-39e142fda73b"
      },
      "outputs": [
        {
          "output_type": "error",
          "ename": "AssertionError",
          "evalue": "ignored",
          "traceback": [
            "\u001b[0;31m---------------------------------------------------------------------------\u001b[0m",
            "\u001b[0;31mAssertionError\u001b[0m                            Traceback (most recent call last)",
            "\u001b[0;32m<ipython-input-7-90e9831ca4f5>\u001b[0m in \u001b[0;36m<module>\u001b[0;34m\u001b[0m\n\u001b[1;32m      1\u001b[0m \u001b[0;31m# This stops 'Run all' at this cell by causing an error\u001b[0m\u001b[0;34m\u001b[0m\u001b[0;34m\u001b[0m\u001b[0;34m\u001b[0m\u001b[0m\n\u001b[0;32m----> 2\u001b[0;31m \u001b[0;32massert\u001b[0m \u001b[0;32mFalse\u001b[0m\u001b[0;34m\u001b[0m\u001b[0;34m\u001b[0m\u001b[0m\n\u001b[0m",
            "\u001b[0;31mAssertionError\u001b[0m: "
          ]
        }
      ],
      "source": [
        "# This stops 'Run all' at this cell by causing an error\n",
        "assert False"
      ]
    },
    {
      "cell_type": "code",
      "execution_count": null,
      "metadata": {
        "colab": {
          "base_uri": "https://localhost:8080/"
        },
        "id": "uMLpWp-DZSZY",
        "outputId": "a9e86141-f6da-48b4-ddce-702727ca2e77"
      },
      "outputs": [
        {
          "output_type": "stream",
          "name": "stdout",
          "text": [
            "/content\n",
            "Mounted at /content/gdrive\n"
          ]
        }
      ],
      "source": [
        "%cd ..\n",
        "from google.colab import drive\n",
        "drive.mount('/content/gdrive')"
      ]
    },
    {
      "cell_type": "code",
      "execution_count": null,
      "metadata": {
        "id": "bBFiu7rFZdmU"
      },
      "outputs": [],
      "source": [
        "# this creates a symbolic link so that now the path /content/gdrive/My\\ Drive/ is equal to /mydrive\n",
        "!ln -s /content/gdrive/My\\ Drive/ /mydrive\n",
        "!ls /mydrive"
      ]
    },
    {
      "cell_type": "code",
      "execution_count": null,
      "metadata": {
        "colab": {
          "base_uri": "https://localhost:8080/"
        },
        "id": "JafIRIU0Z6UQ",
        "outputId": "bcd9291f-c479-4181-8b23-1f321bb90b29"
      },
      "outputs": [
        {
          "output_type": "stream",
          "name": "stdout",
          "text": [
            "/content/darknet\n"
          ]
        }
      ],
      "source": [
        "# cd back into the darknet folder to run detections\n",
        "%cd darknet"
      ]
    },
    {
      "cell_type": "code",
      "execution_count": null,
      "metadata": {
        "id": "YL--CsG0Vevs",
        "colab": {
          "base_uri": "https://localhost:8080/"
        },
        "outputId": "433ebba2-111f-4264-f0d8-6c717d14524b"
      },
      "outputs": [
        {
          "output_type": "stream",
          "name": "stdout",
          "text": [
            "backup\t\t   obj.data\t      objOriginal.zip\ttest.zip\n",
            "generate_test.py   obj.names\t      obj.zip\t\tyolov4-obj.cfg\n",
            "generate_train.py  objOriginal.data   test2.zip\t\tyolov4-objOriginal.cfg\n",
            "obj2.zip\t   objOriginal.names  testOriginal.zip\n"
          ]
        }
      ],
      "source": [
        "# this is where my datasets are stored within my Google Drive (I created a yolov4 folder to store all important files for custom training) \n",
        "!ls /mydrive/yolov4"
      ]
    },
    {
      "cell_type": "code",
      "execution_count": null,
      "metadata": {
        "id": "zqLQF0fNWJro"
      },
      "outputs": [],
      "source": [
        "# copy over both datasets into the root directory of the Colab VM (comment out test.zip if you are not using a validation dataset)\n",
        "!cp /mydrive/yolov4/obj.zip ../\n",
        "!cp /mydrive/yolov4/test.zip ../"
      ]
    },
    {
      "cell_type": "code",
      "execution_count": null,
      "metadata": {
        "id": "A9mYUoKOWWlR"
      },
      "outputs": [],
      "source": [
        "# unzip the datasets and their contents so that they are now in /darknet/data/ folder\n",
        "!unzip ../obj.zip -d data/\n",
        "!unzip ../test.zip -d data/"
      ]
    },
    {
      "cell_type": "markdown",
      "metadata": {
        "id": "nWZqyTvxdZW1"
      },
      "source": [
        "## i) Cfg File\n",
        "Copy over the yolov4.cfg to your Google Drive by running the cell below. This will allow us to edit it in a text editor."
      ]
    },
    {
      "cell_type": "markdown",
      "metadata": {
        "id": "YQUDXrhJekxl"
      },
      "source": [
        "Now you need to edit the .cfg to fit your needs based on your object detector. Open it up in a code or text editor to do so.\n",
        "\n",
        "If you downloaded cfg to google drive you can use the built in  **Text Editor** by going to your google drive and double clicking on yolov4-obj.cfg and then clicking on the **Open with** drop down and selectin **Text Editor**.\n",
        "\n",
        "**(Image from previous tutorial so don't mind different file name)**\n",
        "\n",
        "![image.png](data:image/png;base64,iVBORw0KGgoAAAANSUhEUgAAAeAAAACtCAYAAABoZayTAAAgAElEQVR4Aex9B3hdxbW13//ywF0usuWi3nvvvffee7HkLtu4ygbcG8YYGxswHUwgIZDEhAQCIaRSUoAECC2BAE5CCD0FCIGw/m/tqy0dXV/JkpFtyTr3++bOnCl75uwzM2v2njZuQ9cmREXH9zGR0fGwNtZxzOe+PBsqPyKj4qAmNCwKHp4+cHH1GLJxdfOEaYaXB6fzHYxpzO8xzN/DzRMuNP20D5Pfw8tvk59nj5/jegDYAAgKDEZ7qABjxh8YoK15GxIaCTd3r347GXY+bBi2OiGzwQxvg7HF4/78bH0T83sM8/fop97rNzHyW/2sbWMc0z2838fk5+nzUwDYCAZ0R0XHITomDlEGULYFqH3SdUvRffwM6Yfsby2VG2ixLIOlZ4xr6x3OtN9gyxkRGQsvb79+AXa+owvmzHWEk7Nbv0Bs3ekM9MxGM1D4YMKMNMRtoKlhapMe3UZjKw9Xq3g243Tno7Q0juW5rxZB4xhtjW/LZjz154DI3cO751n9aTMev4mDwzw4OrmccvCkaY3l+DJupadlsX42vocxzOjW/G3RMMZTtzG++knafiRTjWNJ1/e7aJjagymvJa7nSbzur1xKW22NZ9p926HJj3PHj24A7gtooWGxCAqJQVhEXxAeLJhoPAU/2tExffPQOGpHRSeIGlyf+7Wje1W3xjhGILX2Nz7bchvTDrfbVn79+fn6Bdns7F1c3JGamo6q6lpERMbA0cm1XxB2desFOu2wjOo7NjZ9JthpHPG3eu7rZ01X01ps67jGTk/dX8YmfWMevWXvW44vk4cxrbOLOwICQxATmyj8NobR7eTkioysHDS0LkBSShrmzXe2+e36lrsX3K3pncnnvmXon19ad1iWAdO4ddMwDFa0ThnTWtMg/eF4T7ZRo7aI+VjT5UCVxtpfy2Ta5w50TN738n7c+g2beqXJyDjEpCVh665CHL+xGCsXZggIWwDDNoBGRMaBJjUtC8nJqQiPiOml1y2pJiSlIT0jq49ErSBEyS86JhEZmblISkoFn2kYzoambj6LOzoBeYXFiI3pfu6WjOPiU5CRlYvU1IweGlExSfKseVnsWJHwjX7DDbpGeppPdEwCaPgO6tYwtS0A7N7TaRAEIqJi8dWv3oH33nsbn332H7z22qvYvmNXd5zeuJ5evtJp0mbn5B8Q3D2v7Nltu8PFjf4h8PTyAWlLx+XiAU9vf/j5B0JBjen9/IMFgLy8fOHsasmHaWjYqant4uoOZ1cP+PoFgh0s/Zme4MV4vv5BcHf3NMTv2wkzvpdPAAKDQvqNQzosY2BQKDw8vcEBCdNJuf0Cxc0yMi9PL284u/TNw7oT1me+P8uq70K3htEvIDAUsXEnAzD97rrjTpz4wffw1vGv47VHHsTNt9yK4JCwHlpCx80T/oGh8Pb27aFrpE+35k0+9h9meR+Nqzbj8x2CgsPg7OzW853UX+m5unlJHSBf3D184NYNWEY6dHt6+cl3Yx3y9Q+Gj6+/oXxGnlq+Ofnv7mHhn4eXHzw8vODm7i188/bxA/1ou3v6Sf3S8rAMzEOfjbblm/AbWvhh/D4azxqA1Z8203OAml9QjPjElJPyYLhpTB6MlDrQF4AjYpG1ogiX3NWEN59sxPMPVSMvO1EAVkHCAh7xiBDgi0VCUjpiYxPQsXAZmiorERwei4TEFMuiLgHRRNTUtmLX3gNoa6xDWHh0L0BHxiIqJhkXb9uLLVu3YVHrAgQGhiIxOR2RkTEIC4tBYhLdsQiLiEVichpikrNw+eGDSIuPQmx8Sg/Yti9ajW3bd+HyK4+go6VZQDYtsxC1NXWIptQcQwk7DnEJKYgwDhK6gd4ImsPpJt/4zkXFZbj6muuQlZ2HKw4cRGZWXl9eRMXBCMCsIHPmOeHQgT348MXr8Y8XDuLjP30XHz63F++9eAfa2xdh7nwn6UzmObqgsKwasfHJqKiuRVFFDeqaWtHU2oqIiHhk5RbA2dUTlfVtqGtsRX1jC3y8vQU4Xd28kZCSher6FsTGxkiH5ekdgIraVixZuhzh4RE9nVhASKxIewRAHwKugIYnPH0CkZCUCoK1l7cv3L38UFxeARdXTySkZMLHx1c6Y3b8fC92lFTtunl4C+hHxKWgsqYWbv0AdWBYDGqbWlFWWYvw0HC4EURc3REWk4icnHx4EQjcPZGeVYj4+DjJl9IPF7bpoMLV/WQpiYOGppZ2idfS2o7klHTp+FlGAoACsJOzq5SZYMB3OHzVVXj9loN4cfNFeOv4V/HOvbfjP5/+B7t27ZF4rt1AnpFXgpq6RqSkZci7UUrkO9L28Q0QCc3T20/KKO/k7gknF3cZPJFH3j7+PfwiL3vSeFnSODq7wy8oDA2NzZg7aw5ISwcnfH++w/z5TkjLK0N5WTnmObqhsLwWwUFBMkhREOT7znd0Ql5RLcorqhCbmiXtubGppScu+ch45AHTzXdyRcPSNagqK8F8J3csXb0JOWkZKCirRlVtAzIyslFSVY/GlgXIzMpHfkEB3Nw84OEdgLTMPKmrYVK3egcefGe+49LlKxEYFIbC4jIZVFO7oPWGcQYCYE4L2E2zx9r1G1FeWYNZs+f20WCQjmlMHoyUOtALwBGxiC9IReWNLSjaVYNj15Ths98vwKHt+QLAVCETuHKLqrBn51aUlNcK4F1/w804fOQQLt7QhaUdy3DoyPW49uoj2LV7L9rqq7F4+RrU1jTg6I13oKO5DqFh0SLVUbLj6t+WxWtwaPc2AfHE5BQsX7MJx47djnWrV2HZ2i3iXr1iBVZv2oE77vgqDlx1JS47eAWWLVmIG285hq61q+AfGILOVZegMK8AgVGpOHr0Jtxw9EZ0rV6FPTv2YeXy5ehYtha7du7EddffhM1daxEYFN6j8h5OwLWmRQCmHxdZUXJ95plnsWXLdulg6K8DG9oKwKwc7EB9AsLx9L278MGTh/DxX3+E9x5txsdvPYq3H16Fb15/CZzdLFKEo6Mz4tLysHrDRhSXVWJB+0I4zJ6D9JJqLF60FIXFpYhKzMaqlZ2wt5+FjIJKbLxkG9LSMlBYVgn/wCA0L1yO+LhYARBKU1ExacjPy4WHbyRy8gpQUFqDmpYlWLehC2W1DehcvQH1DY2oaWxBY0sLyqpqkJZRgM7V65CdndkNwN4orWhAZV01ll+0DouXLkNFdR1iE9PRvKAdyy9ai2WdK5CamYtLdu7B0mWdCAkKloEBgYSd7XxHZxRX1iMuOgqzHebDJzAM7UtXYdmKVaICLigqR3ldC5avWImaulasXNuFJcs6EZeYgvLqBuTm5yM0PAqRUTECHDqnSx4ToCqqanHjLbdj1UVr+3Ty1gCsDZZS+BM/+Qbe/F4z/vPxP/CHt7/Aw89+gSdf+hQ/fOQn8A8I6tY4eKK8fgGaGmoF7PIKShAenYyqmgZUNbShvqEJabklWLxsBdKy87F45Vq0dSxC04IlaGxqFCBrkQEp+eGJiro2tLa1ISW7SHhfV1uL2JRsrN5wCdauXYfYhEysWteF/Lw8xCalo6KqDqnJqXDzCcKy1WtRXloC35AYLFzaiaLiUsSl5mLzjl3IyS1AbW0dMvPLsXjJahQXFSMqJRNr1nWhfeES1DQ0IzU9E7WNLSgoqUBrx0JctOFiVFZVorpjFTasWYeo+FQcOHw16utbUFpSgln2s+ETEoPCwkIkZRVi2YqLsGrNRjS1tCAzrwQxMbGYN98FUbHJCAoJ6+G71vv0jBzcdMvt2LhpswzolPesDxYATpCBgD6rzXjlFTVYvbZLvumBg0ewdsPFfbQYSsu0TRAeCXWgB4Cj4uORv7kclde3IrmhDMVF+fjdDxfh8fsWoqggvUdtGxWbgsuuOIJDB6/C/ssPoa6yGMvWbseRgwdw4MARbN28ES0LlmDbzl249oZbsGPrFhQWlGLX/oPYtH4lQkOjUVLeiOXLliM2Kg6NC1fi0GU70dy6BFcfvgrXXHsdamrqcPmha3HstptRVlqOfVccwi3XHUVFeSX2HDqAnfv34/prrsPhw0ewtasLQYEhWHHRpWioa0BuaT0OHboWe7dvQVpWHq6+8jD27LsSV1y+D/sPXIurj1yDHZdcirDg8B7wswbN4XwmsKraee9ll+MHP3gYO3fu6auq71ajGwHY2cUN3gHhePL4Tnz4m6P45G8/xbuPLcY/3vgZ3v7BBtx9TRec3HxE4mFF8vYNRsuCDlBaXLK8Ez4+fiiobkBzYxtKyisRGZ+JFStXSIdWXNmAsvJKtC1ZicrKCvgFBKOmaQEyMzPg6ETJyQ0JybkoKy1BYFgyyqtq0dS2BNk5xaiqb0ZL+0KR5Brbl2HBwoUICA5D6+LlKC6txOoNl6KtrRVFZRVw8whAa0cnmtoakZCQjLalq9HQ1IaOJcuRk1+AhqZm5BeVobymHs2tLcgpLkdWairmzHNBUmo2khKSMHfufJHa0lPT4O7pjdTMEuTk5iCvrAkdiztQXl2PyvpWrL94JzoWLkFCfAKqmpahua0dYWHhSM0uRlJykqhAvX0D4eZhUTOTZwTjmtpGXLb/IDpXrhHpSztzawCmP9NQMnvsx3fhd48vxtv/eBu/ffnf2H/n+1h75D3c/+CPBIAV5D19AlBc3YKlnStRW9eIhNQ8LFu9AdU1tXBy9UTbslWIiohAXkU9Nqxfh+r6JlTXN6OtfSFyCkvR0taOkOBgePoGiUbD2dkVjQuXIzklDQ2ti7Gscy1S09PR0r4Uy1dvxKJFS1BYVIT4lAyRvCmFNi5cIYOctgXtKKttRkpiHAoqGrBwyVJk5hVhxdqNWLX+YnR0tKG6th1FxSWISrYAcFPbQlTU1GPVhouxYm0XFixoQ2VDC3Lz8lHd2IKalg60tSzEwmX8xu1oau5AeXmFaELC4lJQVlaOrKJykaYLC4tRWFKJ4vIqxMUniio8KiYRfgFBJy10Kygqxb79B2UQwAEPv4V+F9pcL2KcLtAwfh+m5cDh2utuwu69+7FoSSeiYuJ75oMZxzQmD0ZKHegF4IQE5G8rQ821l6Hu0qdRt+k3WHXFi1i19ydIyyrrBqt4BIdEoHXFxbju8JUoLq3BpZu3YO3aDVjY3oGm+lZ0XbwVGzd0ISc7D1v2XokFzc1obF6ISzdvRW1VpQAP53w5j0Zwio5Lwdquzdi6dScuWrEcTQsWY8vW7WhvW4D2pRdhy+ataGttw7IV67Bj524cOnwQS1euRPuCDpEka8srERoagaa25di6fRe2bduJ6vJatLU0IzElAyuWdqJj8Sp0LlyAgtI6CW+srkGoQRU+nIBrTYvvyHnx3LwibNmyDRzdb9x4CdIzsgdUQbNTmTvPGdcc2ouP/nAr/vHS1fjw5Xvw5iM78O7Tx7B48WLMFdWcBRjcPX2RlpEDJ2d35BSWo6a+CeUVFQgKjkRDSwdycnKRW1wpnTzB19HRCQWltYiLi0d6TqGo62LjEkRaDAoORXhUAtJS0+Dq6Y+q+hY0NrcJz0oqa5BbVILKGkqXBUjPyoaXbyByi8tRXFaN1gWLkJeXh7TsXMQmpCE7pwjVjQ1oam1HZXU1wqMTsHjpUrh7+yMrNx+xCclITstCQ2sHyiqr4O8XIBIj5xJl/s/VHYGhUaiobZQycl6vpKIWZRU1iE9MFqCqpVq9qR1FJRWoqmuUwUVUTAIysvMQl5CMgKAQePn4w9svEO6GeV6qeEvKKmVOvLi0ArHxSdLZs3HaAmBRQbt74dprr8bxp27D7u/vxLd+czd2f/s4HvzVx9i/fz9cuhfBUWUcn5aNqtpGFBSVILewDHVNC1BUUo6cwjLk5OYhMT0HpeVVSEhOR33zAmTn5iIlMw8tCxYiLTMHtfVNCAsNFQk4t6gc+fkFiEvJQmVtI3JycxGfko2ahhZZnBefnIXahiZERUfLuwYFhcLXN0DmoGMSUlBeVY/ahgY4OzkjKiEdZWWlmOfkjvKqOuSXViI/JwvxiVnw9w+EV1AEWtsXo7K6FiFhkWhoW4jsvELkZGVK/jFx8UjNygXLlJyQity8AsSnZCE1OR25heWorm0UdX5+SRUqKqsRE5uExMRkmU4KDglFfHI64hJT5fvpVISCKL8J1fZcw8A2kpiUKqvN+U00Tn8AzHB+N/tZc9C1aTOqaxpkcZwRwEdKx2uWwxwEsA70AHBkRCwSCtNRcfG3UL32V6he+xhqN/wSufWXIzKaatQEREbFIi45E4eP3iRzP1QhE5DZSAky4ZGxomoNCYkStXVoaCTCwmNE1cx4DCcgGQ0BKzTUQofq6fDwaKEZRnrdboJlx5JOXL7/EDqXLEZIaJTkFxISIfQjo+IlLp+DgiNE4gwPtywGY1rOwYaGx8gK4pBQpjHMQ5+FOWAFYfJL3jeM/DmZFyoBa0dDm7z9wcM/xueffYov/vs5Pv74Ixy66mrMnWeZ/zXGpdqac3Wcs+S82XxHy9wl1bhcmOLk5Nbjz4/v5OQiHZajo6t0ckFhMTLPSgnHw4N0LKtImd6yytddttyQFp9JT+cauSpY/SlFswwMmzfPCanZ+QgNDYeDw3zkFlWLpD2/Oy3nPJ2dOVfJ8rpY1M89q7F7Fx+xDIzj5OIm8RiXaZkn3SyP5i90usMs5fOwSZe8Y7mFF1arZm0BsPKaW/QeffRRPPu3Z/CdF76NF95+Fg8+8AD8/aku7pXWuD3JUi63nrKxjGIcXWXhlCPf2cUNnEbQMM6vkof6HsyXtOZ3fy/O+ZO/TEf6/M6cNhCeOFsW1xk7eKbnAI1z3rJYi/k5d7+31AvLtyJvBaxk7tjFkj/zdnSWb8nBHdPT5rd3pNvF4rb48z0sdaPnXVg2xjHwV+oG+e7u1TNHr7xlXL4Hy0836WiY2mxDtiRghjMd06SlZ4vWTt7HUJ+MfDHdJgie6zrQC8AERlnRzJXHlpXNFrsvUETHJSE1JVMAkKdlcW5YpT4CjS230c8IvupmuIWOBZz5TNC30CfwxyE5NRvZOfmIitQ8LLaRhoWOJb7QMJSHe5q5CEv9NR1t+p0pY52P5mf0V7ctAGYH4ucXgNbWNmzadDGKi0tF7aydkS1bF8xI5erulCzxtMHpilZ9ttgEI4c58wXctTNTm7SMbmPFFdoG1Z48d3d6jCdSDiVPqsp9AqSTVFq6fUXpGdMa3cbwPm7Xvu/QG2bxN9KgVNr32dJh2/Ij3/vbhkQw8eZiocWd2Lv7crS2dAhd+htpaVls2Yyn30ncukBN7T7fzVJO2SZk07/vtzGWweK2hBvBiHn3ydcAUtb+Wv4+dLmlSKVStbvLxvi2aPRJb5WfMcyY3uivbrZVIwDbKp9lMDL476E0TNt2ezL5cmb40heACUZWRsGhB7giYxEe0ReUNc6ZtLkArM8WJytJ+rTz7gblswHApyojJRTjdhTtcNhxskPhwhVbEoHGG4rNBmUrvjY0W2HD4WcEgeGgNzQatt/Zmobyhqt9/fy5YrhXqtW4lHQpfXIlOr+N+qutAKfPpq2Dvl5b+TxU3vCbGNMa66z6G/2UvvqZ9pkBE5OvQ+frSSdhWQMR1bsEDuOpWNZAYp1muJ6t8zE+D1ceI4GOvldwSHifzp4Vmp2HrYrdn7+tuIP1047KYg+9MtnKp7ecvRKX5mMr/kjx03LbKquGGctqK54x/Fy7R3r5BsMf5bu+iz4PJq0ZZ3jas8nH4eVj71nQZ1AN+2VBTgFqLNjce0r1mlnRh7eim/w0+WnWAbMOjLQ6MOIBuD/Q/bKgPpLTU9XOBVumMXlg1gGzDph14PytAyMagK3Bl6BJcAoLP38/CBsbD+0wjckDsw6YdcCsA+d3HThpEZYR9AaSEo3xrN220lnHGeiZ6a3DCbxcpKSrH7kwxjQmD8w6YNYBsw6YdWC01oE+AGy9N9UWkKqfESC5Xcn4TLfGswWmDOdeXOZnK9zaj4uTeDBDf4svjP4nuy3zHurPOQB1D7c9XLSNdIxubvvo89zPVg7GUdPfOw6GDtMKHdqGvJS22j3xbCwaM4ZZ56np1V+f+yuz0d86rj4by2nMW9NqPFth1nGMcU8O611UpvHU1rhqq7+1bR0u23qsvnF/aZiWYUYa6jbt3pXWJi9MXozkOiAAzP2xBMPklIyTgPRUYMr9uzzVyhq8jenoVkPg5Tam4pJypKRmysEZGlfjGG3Gd/f06elolJkc8cyd5yQb/NXPls3DCozbRObNd+qz0thWmtPxY3l4QII1AJwuLdJjWstBEt3bYORggr57G63p60iQ25WUBuPQzcMdNL7lIIeTt9douNFmWr6XloX8pOFBDLotSg6C0EMTurdNMT7TaXw5MMJwUxHpCp3ucpEWaRrz7s/NuEzLG370PWmruydddx68sck6P5vx5dALpW05QMJIkwdi6DszDy0H3XxfY5jFz0KL7y7h3QdSsOw80ILbzngYh7yL8rh7sMN8jTy3pm0sP+P1vLNhsGT6mQBk1oGRWwdkDpjq3cVLluOmm29FULDlkgJrKbS/Zx7fx8PvCaZG4LQFqgRp3gp0/N7v4tvH78Xxe+/D5i07cNm+KxAXn2wzPa/Fs1WBeGQd78e13rpjPByABxcEBEYhKzVTTkKi+jq/qAT+vv5yY45IECdJi73So0X6sHw8a0mk57n7IAi/gHDkpmfLLTGyilkPfbCSaORdrCRF3pCj9HgqFN/Z09NHOt/QiGg515kdtYe3PyIjo+TaP1t3q7JD9vELgr9/EBKSUuDr69cDSLzyLzY21nJbjqsHouMSe+gqf08ePLjLzUO+fgGigQjikY7eAXIjUmoaB2vRiIq20PQPDEN8QqLcFsRr6HhzVVhoGJxcPKQsjJ+UnAJPXicovHGHj38IUnh9ZPeNSzw+MjIy0gLCBulOy6c2+cubn1JSUuDl5YOAoFB4eXnD1z9E3omgTH6SH14+QYhPSIKHp5fkx4sFmB8HDDxCMyAgCC6GQQHLxnKkpKTKudm8RcvPz3ItH28s4rGRCXxPubnJA2GRsUhNTZP3CgqNRFRUjJxSxbIy/5DwGKSnZwq98IhoREREITg0AmnpWQgLCRP+xiemIikpBR4e3jL3z3fhCVO87i88PFJuOUpOzUBMVIycfqXv5uMfhABeI+nmhfDIaKkXyiOtT6bd27ZMXpi8GGl1YNy69V1Y0L4Itx37KkrLqhCfkILEpDS5o9cIqNYAzGsJY+OS5G5b3r3Z3rH4JBA2pqGbdI9cfRSNTW2ymKqhsQWvvf4G7n/gwX5V0XplmnYstHkAQhvPgt66DZs2XXKS1MGbdFzdvZGYkoq6uiXYfNFaRETHISMjE6WV1UhKTIWvty/8g8IQEBCMpNQMuV+YH4eSBK9azMjMQUJsvNyRmpqejeTEJJHmIqMTkJWVA38/f/j4Wc6rTc/IQFpaAbatXo95Lp6SNiSYh8gTCLzk3NuU5GQ5czglLQuJiYlyN29CYrrcSMT8eDMRO15ndx/kFxZLuXjwf2l5DaKjohEcHCZHdMbExMnJWOzcOSfOE5nC2El7+QhNHkafmZWLysoquc+Vi7p4vm9wWDTqa2vg7u6NoJAINLS0C0DyDl3S5tWAgSHkR5DcLhUYGCx85XnDSUnJKC6vQV11pQAxD7cvr25EQV4uIiKiERgSJdfYxcXGwS8wDNW19UhJSZObmdLTLHdEFxRXoq2pUQAzNCwSXp5eSEjOQn5+oZxPnZyYIMBXWV2H6Ihw+PgGIURuyuk7epVBhn+w3KzD+59zsnNQUFyKtNRUOSmN31MGDB4+8n3r6hvlLmqea52WVYTyslJwIEGJlGdmV1dWysUAfG9eNcjyN7V0IDsrF8VFJSgurUZ6Whp8ff3hHxyJxuZm5BeWICM1BQmp2SjIL0RiYhIiouNRWFQslwEkx8f01MnAkEgkJaejrq4BiSnpKC8tQ35+ETggqWtsEeCtLKtAZk4xcrNz5NzuiqJ8kYgz8kuxuKMVYRHRKC4pk2NC01OS5NaswMAguaSBJ6NlZOfLWc6UzrWdjLSOxiyPCX5mHTi5DozbvHkbfv3k0/ju9x7AddffiOtvuEluJOK1XlT/KoiqTVCmxEzQbW3rQAtNazvWrN0gUnR/aZiuoLAU+/ZdIXQJ4PkFJVi+fCXq6nmI/MkLr+inN8tox0KAZAf++OOP46mnn8YLL7yA0tIKAeXeOO7ILq7B/r07sHrtZuzYuAk3HjuGzV1rsGzjJmzcuhcLm2rR1rEcXZu34/DBQzh06BASY6Lh4R+BHbsvw/qubbj9qkNobluMNavX4vIDh9Dc2ICNmy7B8lXrsWPrpehccREWL16K2+/6JjoXt2Fj5zqs37IXRw4dwmW7tsHFyQlpOaXYtnUbKspLsWBpJ7q6urBr7z5UlpbhwOXXYOfuK3DsuiPYuGkryvLyEZmQjqyMTGRk5SEpMUXu7s3KyUdjXR2i4pLkYP/i4mK5xJ5gW1xajuKSCpQWFyMkLEpAMSo+DWXlZcjOK0ZOVjZycvORlJyKqopyubCBUuDipZZbdTgVUNfQjMysHFRV1yApJQMErciIcLi6+6KsvAo+Xt4IjUxAdWWVqEvdeEFDTR0C/AKQkZGD7PwytDQ3y4UPvHYvPzdbvodvYARampvkGkBeiejr5WW5uCG/BNWVpUhIzkBuboEAcGxkBFw9fOTCBd5XGx4VL/UiNjqyj+qcAOztFyxX91VU1iAjPR2FZTXoXL4Mfj5+iIxJRWFultxLnZmVjaaWBUhLy0RZaalcGFBTU4PYmBi4+wSJBqWoqARhYZGoqKySo0ozMrJQW9+CzMwcFBQUoqSiDmVlZSgsLJKLKhYsXCy3csUnJKO6pg4+Xl5ynnRASIzcucuBRlVpvtzDyw6HquWouBSkJifDPzRaLkEoLCxFeUU1KisrJc+GhiZU1TQiIz0NRaWVaKxrRGhYOEp4r3N1hRzLWjQUczcAACAASURBVFhcgpLyKhQXl6C0vFLuAA4LCkByRj5am5rk2kat/7TNzu7kzs7kicmTkVYHxq1evQ5dGy8V0KX6mWpigqhxTpdAaAHIXpBkuBqC6cJFy+SSeet0KkUzfVZ2Pq6+5ij8A0JF3cwbT9o7lqCqul5Ub4xryaf3TGjr+V/OgyUkJuPVV1/FW2+9hbfffhsL2jv6nF/MubXFGy5BXlocvL0isPGidbjm2ivh7+2OjtVrkFVQjptuuRVdG9bjihtvw2U7tmFF50UI9PRCeFYJVnetxzz3cFyz70rs2r4XYb6eKG9YjJtuvxFNdRW4YOp8XH30q7h67x44z5uDrh17sXr5Qmzv2olvf/t+XLJ+LRYvbofd1ElYsKQL5XnZGHeBHfYcvgaxoV4oaOzAvr07sKJ9OQrzG3Bl1yqkZpShvbIeRZU1oPTMCxHs7GYiM7cYOXmFSEuMx3x3f7kFJyunEBUVVXJZOcGS6kmqTNOychEREgTf4GgQfKpq6jF/zly52Sg3vxCl5ZYbdebOdURJZa3Mw1NSzsrORWJKGjLT0+QqwPSsfORmZyMmIQ0FudlyCUJweCyqK6rEHZ2QjpKCXAHG7JwC8NabxNgohEXFo76xGUWF+Zg1ywEBoXForKuRW4aiIyMxw34OYhPTwJuH2lub5Hxv3kUbHhYGZxdPZOcWIijAH06u3sgtKEZDcysy0pJFWtWGQ3DxCQhBbW0NvLz8ZADC24aamltBLUNUbBoKczMREBqDpIQ4ePiGiFRaVFiA2bPmYJ6TBwoKi5GQlotVK1dh4aKlyEhJRmpWAaoqKxEcEobW9qXIy82Bm5sXyqsaRFOQkpYN3hZVVVOLwqIShIZFyODIy8MDc+bxOEpXhEfGoby6DnmZaQK8VOk7u/mguKQUTo5O8A2JQllJKXKy85GaniPvwMs28rNz4OIRgMqqWrmPNyYmCY1NzfJdKsrLBIB5dSNvRkrMKBRNRnZOHvz8fOVmpZbWVvh6UnvTO6ev/DJtE3TMOjBy64DMARM0d+7ag23bd4masxdwexdPqZ8CpNGmJFxYVNYHtG2BKdNcfMkWXHnwKjQ1taFr4yW47fY7ZB6QUrWCtdqM7+Mb0KNWY+dLCZi3Mj3xxC/wu+efx/MvvCCSCNXSKgFw4VVqTikOHbgCl1y6A10rVmLP3i0IDw1ES+cKePv6Y+9VN6C9oQYlNa24bPcOkf54mX1xfgE2XboDu/YexD03XS/XuG3duh37LtuH3KwcbLx4Cy7Zsh0rly3CgkXLsXbtenzngYfQubAJS1s6sGhVFy7dZLkYvb6xDWUV1cLX1pZGVDU0Y+fOXdi5cwfS0zOwrK0TRfl12NG5BGmZZVjSvBB5ebkyP5melYeszBxR53K+MDUhHi5egUhLS0NIeCwWdrTLdXOZ2QWiWudcbHZ2LlycXeVOYKqNE1OzRGLKycmTO1GLCgpBFXhOXoGo8AkoefmFSElNA+cvOafq4R2AjMw8AZmS0nIE+vmJOjUgJAolRUXiTs3MRVQ453c9wTtng0IiRSrjdXkcVBWWVqKwoAhlZRUID49AdV2TqF3T0tIFZAlgdTVViI1LRnhouEhvAvDVNSKJx8TEo6ikTK7Do2qa86F6oQOvE6Tqn1I7JXtOK2TnFQiIE8Dj4pOkPhDkkxLjERmXjKycPLkbOCImEXl5hTIny/DgwED4+IeiuLAIAcERqKiogKeXv0j9rrxpyNEN+UXlCA+LkKstI6NiRMrn1EVBfh6i45LlHXNz8xAUFIT4pDTQ7e1luUqR6xFyi6vQUFePzIwsxCWlIjcnB2mpGfBw90RKZr58s8qKauFLZmaWvJOro6tIu+GRMeDAgVMMMbFxolUICI6Ub5OYkIDQiDhkZmbKFY/lJUUiiVvm10duh2OCgfltzDrQWwd6tiFx7pdq54jIk4FQwZSAqMCrIMm7fdMysk8CT02j8dTmvDEB++JLNmPlqjXd9+LazpNpuMiKH0zBlTYXwFAK5jxaSmo6uCCLqkljHHZEoeFRol709fGXi9KZjnOmlEw498l5U9IOj4qVO4W5eMnTNwDN7Uuw9/KD2LxulUh87AiDAoMF/P0DQ2WhjZubB3Lyi7Fm/SbcesvNSIqOgpenr6hRuaqcc4qcw+Wio6CQcISFhckiGc7nBQUFi8TH+1o5x+3vGyDXxVGTEBQQKPkQcPx4N6u3n6wC9+BF8m6e8PD0lnllb28/eV8PTx95N//AEFmwQz5wkZJFde8p7+nl7Svvyffldi6ZO/bxEz/ek8s5YqbhIiDyg4fd+/oHy13BXC1NvvLqOJ2PZ56u7pZvQreohX0C4O3DMnHhFsseJBez8zvQTWAmfxnfxy9Q5oIZj0a+aXcaxuM7enn7y3cNCAqTu2WTktNkERfnliMjouDjGyg03T28hCbnb909fOS9ueCMAzeG8XtzTph5eHr5SVnIG0rPWl+8vCz8YdkknreFN5Y0vvLupE0eyVy7q4d8F4YzH74f6xbfi4vnvH2CRCuRmJQCzqVb3j9IFnUxDw8P1jvWYwtPff0D5WJ60mC4Kwcc7pbvTHr6PXWRHN/Jx9cfHp6+Pd+ZbUDfh7bZyfV2ciYvTF6M1DrQA8DWwKqASVuB12gbw/tza3xb4TzhhVKvdb7Wz5TOCRjWAMtOSY11x6PPwvTuc5XZuWnHpLZ2aMaPQ6kuO68IxYWFcJO7XT0t+XA1c3fHxnzpjopNRHV1LSJCQ2XlLukQcLjwSmkyLyln92polkPDrG0uHuu5Demk1dlcjOTZcwWc5GUVp5dHlnL0vKdhAGPM01a4+tGmJoG20QjPDPQ0TOkan+lW/5NsI115j964xnR08736mt64+g2NaYx5Wb6H5dv3xOkuF5/Fz1BOS5y+76zxjLZlFbp+7176GqfnW1h9Iw3vsd1634V+pGt8J4knV//1lqlPHIb1vE9vOYw8MN39tzmTNyZvzmUd6AFgBVojWCqA9mcb4xrdtuJb09c4tvyVFuPQTRC2SBlefcCgpxMzdubD4OYc6Zy5J194b50f92/yknmqxfkRrcPN517QMHlh8sKsA2YdMOtA3zrQB4AV+EaqzS01vC2IYEyp2DQmD8w6YNYBsw6YdWC01oERfRmDSslGm/OkpjF5YNYBsw6YdcCsA6O9DoxbsWKlnB7k4+M3amxvH1+YxuSBWQfMOmDWAbMOjOY6MK6xsRF2dnamMXlg1gGzDph1wKwDZh04i3VgXENDA6ZMmWIakwdmHTDrgFkHzDpg1oGzWAdEAp46dSpMY/LArANmHTDrgFkHzDpw9uqAqYI+i+oGU9VvTnWYdcCsA2YdMOuA1gETgE0A7pnzmTZtWo9bK4hpm52FWQfMOmDWgTNTB8Y1Nzdj+vTpQzDTMH16f2YodMy4Q+P7meWXnQm+5uDDHIyadcCsA2e1DpgAPKTBx5kFwXMJyJR+TWPy4FzWgQkTJuDCCy8c1Wb8+PGynuZc8tHMe/S04yEB8LTp02FnNxnT7CZheh8zEdOnTR6CFH3+Atm5BNEvk7c22i9Dw0xr1uuh1gGtd1RxfuUrX8H//u//jmrDd+CuEn2vofLDjD+22pAA8IwZM3AqM3PmTEydbocJU8Zj2tQLMd3Ohpk+5ZR0mA9p9TX28nyqMpjhp/5Op8sjs+GPrYY/0r43AYvgRfN///d/o9Jo+QnAI42/ZnlGZvse19LSYgWG1uBoeeYHHD95Ai6YdCGmTLkQM+xoxnfb+jwBM2dMH5Ce/ey5cPKKhYtfBlz80sU4ecVh1ux5A6brC9i2y2jGOX2+nC5wm+nO3KBoLPHWCMAKZKPV5jaesfTtzHc9/T5gXGtrK+zt7Qc0VA+5ubuhtb0N02fNwIQpE0QKtoDwhZhpZzF8njl9cg+QWtMlQDp7JyBj0c+Ru+oFZK98HsXrXkLzll8jIHFhNwhTGh64PLbokjbLycpgHW79zLiTJ1tU5tZh5+pZBw96KAqfz3RZNE/a5JvxuT/3DMbtjm/d8PpLY/qf/sDofORdwLx5yHRzk/qmdYgDfEq+1qBLP6ql/9//+39i24pjnWagZ+v0//M//9OHrqrArWkw3amMpjEC8Pn4/cx3Gr72fEoAZgNxdXPFs889i2/fexwzZs/A+CkTMWnKhZg5zZYZD/uZ0/sBj5lwC8xB7kUvI3/NK8hd/Spqt7yOh5/6BzZc9Rx8o5thb98/gM6ePbuH7qxZs0Dj4OAghmGZmZnw9PQUMKE//TQewYxuVh76Z2RkwNXV1SZgM5zpNS1tTU9b86Q/QZ+dh8bVfDU+aWk5lCbD1BhpsWwlJSXg6WRz5swRo2k1/pmyh9qo2MlMmjSpZyAz1PRm/OFrxKONl09kZwM1NfhmSgrmd7dJ9jPW4EhAI0ByYVZkZKTMq44bNw4XXHCBxKW/pqFt/azxFBiNcelHsJ03b560Z+ZDkJ84cSK4GMw6LeNreqWntrU/28Zo+yZmec9NexQAVvCwttnZBwcH44Hvfx/fe+B+2DvMwgUTLsCFU8bjwsnjYWc3HjOn2zAzJsPefmYPKCld0nMPykXe6peRv/aPyFvzGqo2v4GfP/dPPPa7j9C67ddwDcgWENY0ajOtSrj0U6BzcnLCfEdHeb7lllsEWClFuri4SONiOgU+piPoHjlyBDfccANuvvlm+Pv79ykn4xP8nJ2dxd8WgDo6Oko4K+2qVatANT7zZDrSp635zp8/X8pBP5ZJAZVlYRwjrezsbDz22GMCwnPnzpU8aDMN4yovhtsm7cE2QHaUEydNkk5qypTJAsLssLiNabA0zHjnprGPFL6/UVwsAEwQfrmwEHHOzjKItQYyPrNN3H777di7d6+02bKyMgFCDv7YtgiYBELWQT7Tn+BJm+2Gq5IZTj8CNN30I20+FxcXS5/B7Zjs68rLy1FQUCBtWNMq0NJmOqMxhqmb/dRI4bVZjpHd1mwCsHb4BKf77rsPx+89Dk8/L7h6usHF0wXOHi5w9XCFo9NczJw+AfZixsN+upoJmDVzWh+wsYBGLwDnrfkjcle/hvy1r2HR5X/GmiNvon7bH+EVs1DmkRWo1GZF6uzshLe3N+Lj47F27Vq0tbXhiiuuwMGDB6XREFSTk5NBtTr9rr76amlgCxculAaRkJAgYTExMYiIiJDwuLg4ATfmwzy8vLxw2WWXCUivWbNGwJCSNcPWrVuHyspKXH755RKHF1ncf//9+O53v4v09HRs2rQJ+/btw65du6SMLNvOnTtx6NAhbNu2TfJrb2+XAQFBLycnR8rPcrKMjPfUU0/Ju/BdDxw4IPQWLVrUA+jDDb5Kj+UZjJlqZ4dJUyzTDBqf4MuOkKpp9RusTUCnxMBOi/OAg013qnjUStiKw+/IvGj4LrbisUzDWRZb5RjLfidKSnoAmCD8SWUlFvn7C7ApiBHkOJi97rrr4OfnJ9Kpu7u79EelpaW49NJLxVx00UUSb+XKldi4cSPq6+ul7bHtsM1xcEypme2a4Eo32ylpL1iwQPoD0nvkkUekTZPOjTfeiC1btqC2trYHrCkts477+voKLdKjto39kQ4CtOysW2P5+5rvPri+lHw6CYAJRDQMvPvuu/Hxxx/jxJ9O4M9/+TNOnDgh7tdPvI43TpzAtm1bMd1uIhzsJ2LW9PE9hkA8awZHoFQTqxp4NmbPsodHUC5yVr2Mjr0ncNsD7+Mbj3yAu374AS658a8oWPsKvGI6MGXKJJH29EOy05wwYaI0nJqaGgGtPXv2CMiyQcTExOL6G24AJWCC8rXXXisNg6Pbu+66C0ePHhVJVxsVpVGC3QMPPCCNW6VpAgH9Ce5ubm5gw1y/fr00YpaFtAiwx44dE8Blx0CwXr16Naqrq6VDIKAtXrxYyvjzn/8cPj4+AsiUlFlWlo2Nnzy+6qqrhI6Hh4eALjuE2267DRwgUEqnxFxXV4fDhw8LPygNK2AOt833G4imhk+ezC0WFpW7fh/alIqnT58xIA1b9O3spmHGDIu2RMGQ8bgOgN/dmIbPWg76061xrN3sBBmm4UqHz9pB0s1vTsA10lNatGk0rdpMZ8tfw0eT7T13Lq6Ji8Oj1L6cJfPvqqo+AEwQprk1JgZTuqVUSqzR0dHS3giaBDmqiNku9u/fj66uLvkGbKts39///vel7X/rW9/C1q1bpR1RgOCgXMGcbTUsLEzAloNnasBWrFiBiooKafeUtjl4X7p0qWim2D4pVavkTKn6yiuvxJtvvok33nhDbPYXXE/CPAjAtDl4Yx04X+rIaKrPo62s49jp6zyk0eaLRMdG49dPPolbjt2K8NhIJKYmIT45QUx6ZoaobGbPtsfsmZMwe8b4k429HRwcLPOpCnKewXkCwO17T+DYQ+/hnp98gLt/8iEuvektFK57BX7xSzBp4gTpzKlWYqWnYafHxnP7sWO482tfQ1pamoCfRVXrIsBG8Fq+fLmoq9ixenh6ivpq2bJlAogcTVPypSRMlfEll1yCpqamHvUxAeBrX/uagCkBkuptAidBnc/Hjx+XeWZKp/fcc4+EcSBA+mzQlFTZ+IqKinDNNdfgm9/8pqiyKDkTzKnWZqMmEKubai+qodnQSeP6669HbGysgDaBgnPVlLj5Pfiuxm80XG6+22AMy0C+sVyMr5WdHY1IwN1ANhhamp48nzbNIjFoOpWK+Q2lM+uefmC+9GNdoP+UKRbJmfGndF8owjgsF+PRzTjMg36kz7JqB8ln0mI82vpuKgHTXztR0tB8SVvLoWUerfYN8fE2wVBB8Wzbx5OSBMQIwGwXBFBKmeQ3B7McNLPPYpujX0dHB+644w4BZmq/8vLysGTJEuzevVvaFAGbqmSCKEH7wQcflDZP4YI0KDFz8EwgzcrKkmcO3FmfCfQsg6qsKQUTYNnP/P3vf5d8Cb4KvAxTAB6t9cEs9+D6wuHiU78APNthNi6YfCESUhPx8CM/xCVbL8WUaVPwlfH/h0lTJ/csXhIQmD0Ds2dOxOyZEwxmvLgdZvcuWiIYKwC37TmB67/7Lo499L6Yjdf/FQXrXkFA4jJMmmQB4AvHj5d8+LIEH0pYt952G6gmYodIVS9BlI2NoLh79x4kJiaK2pcqKja+9o4OabgPPfSQpKPqiFIopWGCJNXZ2kGzw6VamCqo7du3C2hXVVWJGuziiy/GvffeK42bYTt27MCGDRtE2iXQMh7BldIwVcoE9ltvvVUAkyPqwsJCacwcnbOD4DuwIyG4Uk1NoCcNqs4IxhytU6XGQQPLSR7ogpHhAl4jncFWKIITB0S0CWoEKAIX/RTkBkuL8ZiG/Cfv9TuQHt3Mgx0c86CbhuDJMLVJQwDU3r4HYEmTfrSNbsYlLabXMvKZtEhb/RVoNT/SYBwFadqMSwBQOqPV/npy8ogC4F9kZgqIEcgIbGyfbBNUG7NNcEBK8/Wvf13aDNsiB9Vsj5wyogTLATD7A343arAI5gRPThN94xvfkEExNVnUPBGwOZinqpp+1DgRyAm6bJP8rgrApMMyUYPGQTnrAZ/pr+BLW+vRaK0TZrnPHggLALNCWRu7mdNwod0EjJ86AZHxUXj1j3/Eoauvwsw59gKGxvgOcxzgMGuKBXztJ2K2/QSLmTkeDrOmYs4cBwt9Bwd4hRQgd9XLqN3yR2y+8S/YceubYhbtewP5a/4A/4RlmDzZMp84YeJEATDmNXfuPMmXc7uUIKnypIRKaZGSscSZNw88rct+1ixERkVJPII2w6iOouqXoMOGx8YYFBQk7vDwcISGhorhiJdSKRsl55wIesyD6jCOwKkWZqeQkpIiUizLwLgsEw1H0aRLEGWezI90mI6DCA4AmD9H9Uo7NTVVaDEOadAmODMfqrM5wGCjYHwj34fLzTIOpdGxgyH/xUyciMlTplgk4OnT5X2HQosAqPmTLjs1AhvBj24a+27AY4dKfwVGhjEvgi1t0lFaBEwtx7TpvW7SYD4alzT4rHTpryDNuMayMA6ftVyav+YzGu0AR0f8IidnRIDwi/n58J02rQ+YEeDIZ10USXV0bm6utAu2E347xqHNZ9YFas74nQiMtBXMKQXzG/KZ8RjOuJR2abPtMz4Bl2EcCFqDqxFo+3MzD62Ho7FOmGU+iwDMRUEEBqOZNXsWJk6bhPF2EzBh2kR8ZcJX4B3og92X7ZYtSRYg6E4zx2LPcbCXuWAH+wmwNgwjfQKGR2AGsjt/g7x1J5B90RvIuugNsXPXvCF7g11DqjBtGjs5y7wi0zDt7NkOCA4JEbWRdKLd0hAby0yRfhwwafJkzHFwEKBiHFYkltX4bupmOBsJVzxScuXolystCebWabWzZlrS4zPjKC3mQz8+s/PWMmt4f7aRlpaTNjsSjvYpWVPVTYAfLM3+8jqVP8vPPAYyygcHhzmY7eAgfJ/V/e7sAHWqQOMNhpaCH3lIN/kq0mb33Cv9FBBJl89q2DEzD31mWrqVln4XBWOmJy0+02ZHqeBNt9Iz5kd/dsSkTaPxGYfxB/OuA/FhLIZZL8KimvtrycmwmzChD/gqwBE4CYQ6F8v2ERAQIFIt/RjPGEfjqr/Ssfbnc3/GOi2fGddIS93WtgIw68ZY/L7mOw/cjxr5M45zKOz0FQDYUdvPtscEu4kCwATh8XYTccGUC3HB5ImYbDcLU6fPsWEcMNXOHlPtZp5kZs2ygBNpz3dyg1dIHnyjauAaVALXoDK4B5fBLagMjj5ZmDnbSSotOzhKwCwsy0abq1ZZqUmHHT87fPppODtHdpbaudLN+MZ3UyCin/prJ6q0NUzDjc9Gt5HWQG5NwzhGd3/P+s4cDHClpZbLGF/pfBlby0zbWClOx80ysuOZNMmiMh4sDYIkgYxp7e17t5epH0GPtPWb0mYa+tNmPgzX+Aynn6azdhvjMo3SoG10a3rNm7bSYlmNaelvmsHzwAjAXAG9LDhYvpcR4KxBzfhMiVfnY43+I8XN+mHWh8HXh7HMqz4ArJ35nLlzMGXGVAFegi/NBLtJGD95OiZMno2JUxwwceqck82UOZhoMBOmzMGUafwQFrCz0CcIUWqeI6tfqSKeNn0GZnSvoJ07r1fKnD5jhqietVzc5sKPxWeChqUTtACs+nFFLYFYpR5NOxptfdezUfbhagQKkMNFz5rOcAwWlKYOQPTZlj2c+dmiPxb9ni0oEJX374uKkOTuLm2agx+VRinNjmbDwRunoM5GuzXzMGLLmZmiO5NtVACYlcXazJozG+OnTew1U6Zg/KRZmDDFQYwC8KSpc2A06i/2lDmwnzX3JNrWeZnPJ/P/bPKEjZhA82UbswKa2oOlp/G1DNbPWj6jv7o1D322to1pjW6NZ53eGGegMKbXcNPu2wmeih+Rbm7YFhUFTycnqXfkJTUMBGBKtpRwR7Oh5o1SsGnOLg8okGm7Hi3ts18Anjd/HqbNmiZzwBOmTcKEyfaYMNkCvpRsJ06dK2bS1LmYZNdrJtrNhZipczF1OjupcwsugwUyLsAYa8bIm1N1mmb40EDG5Nfg+cV6SAmYCxO5s4BrMUaz4aptLhY1zdnjAbeRcR0PF9RyMDda2l+/AMxGQXXw5BlTMH7qtG7wNaiYBYDnYeJU24ag7DB3PhwdRxcAG0FpLLlZYcfS+5rveu7bpXaS/BacNuI2ok8++QT//e9/8cUXX5jG5MGg68Dnn38ucbktldNgRgl4JLf1cTw8gltprI2jk5NIhDO52GnqbEy2m9trps3D5G4zZdp8qJk8bT7UzLCffxJN6zxGyvNYk3xtva92hqY9eMnN5NXw8IodJNW23Ov72WefmQBsAu+ggVcHagrAPBtCVdGjoX32C8A94OjoBMf5Tpg/ROPo6ARn55OBvYeuDdA/22G2gGis+o3kUaJZtnMvrZ6pb8BOkrS5/1YBmJ2q+TM5MFgOsL5YA7CC75mqt8NFVwCYm9zHkrEF9GMVePW9h6tCmXTOX7A8E99WAdgoAVsDsEo5tuzBdtJDjWedF9Or31BpmfHPLAf4XawBWFXQZ6LODifNMQ/AOvCwBcpjzY9gPJyVy6RlgvGp6gABmPXOFgAr4NEeaF74dLp3I21rN+lZ+xmfTyc/M82Z4wC/jRGAOQesA7tT1b9zHT6O5xLziMbz3fD0HAVbuhVc1c+0nYUnOvevkrFpj73V8Wfzm7MDZH5UQfO8dc4Bs0Plzwh6//nPf/DWW2/hpZdeEpvPDLcGZuMz3fqsttLUZ3bcpKXPaivtf//733jvvfd6ysJwYxyNZ6Sr4WprGG3zN/wcIF8VgHlsLwFY69XZrMunk9eYAmACrxGICcK8KIE3EPHKP17eYBqTB2YdOPN1gO2NR8Byqw5vHeLlKbxXWztSBWAFvGeffRY//OEP8fzzz+Pxxx/H+++/Lyum3377bQFtgui//vUvuaWIaQicjPPpp58KeP7jH//ABx98IG6C/LvvvitxCK6/+MUv5NpVrsB+5513egYBTPOHP/xBLmHR8pAm0zAP5snnjz76SMqtYK2AzngMMwF4+EHXSJH81cHOD37wA7kHmpfc8OpI1rGR3LePGQCmhG8EYHUTfDmy/uMf/4jXXnvNNCYPzDpwFuoA29urr74qEu0zzzwD3p1N6VY7UgU8PhNEeQ0hwVGBj8DLawh5uxEB9JFHHpGrR3lnN9sxbyLj1aK8fvCf//wnvv3tb8v95q+//jqeeuop3HnnnXK/909+8hO59ex3v/udDAB49jrL86c//Uno33TTTUKH5fnrX/8qcb73ve/hN7/5jdw/zvPav/Od7+CVV16RW9aY/49+9CO8/PLLkh/p67uYErCwYtj/jAMcfofHHntMviG/AZ9Hct8+jhIgb+s5X42bmxtoVMWuwKuSMBsYR8O8YJuNzjQmD8w6cObrwIkTJ6TNEYRVqv39739/EgCzc1UA5h28uk3p0UcfFSAluPKq0dtvvx3PtkHQcQAAIABJREFUPfecdLwEPYIzJd77778flIoIuAROAiT9GPa3v/1NQPWXv/wlfvWrX4mk9OMf/1iAk4DNsr344otCm6jB+JTC77vvPonDPDkgePLJJwWECcaUfinJkw5tvpsOKkwAHnbsFYJGACbY8nuS7/x+HHCxro3UNi0SsILU+Wor+FpLwZz35UiZDfvNN9+UxshRrmlMHph14MzWAba3v/zlLwLClFQIgJRWFKzYs7Jj5TPV0k888QR++tOfSmf69NNP42c/+xm+//3vS0dLAKbkSgCnJEsAPn78OD788EORnH/961+LBMz0BFTG/+1vfysdNTtn0iGIsi+gepsSMKVYSuUE3GPHjklHzzIQxCltE8ipPaPUzmfG5z3iL7zwguRNm2Uk8BvV0GcGgkyqCsKq4WCdolDFOjaS2/J5D8BG0FXpVxdccQ74tttuk7kjjm6p4jKNyQOzDpz5OkAVMqd+/vznP4uKkKBK6cUagLVj5fwqwZWSJaUbzvdS4iXIEcypdibgck5Wnyk5s0NmWqqMCa4ff/yxSLIEV6bnM8GYHTUBnP4sG0GTkhTBm7RZLg7UKXkzPkGaEjAHDgR1GgI11eEEdUrmVIUSiHVem+9i/s4MB7SekPf8PpR++U1Zx/g9R2qbHrd8+XK58o7X3p2PxsPDA2qoZjeqownEX/3qV3sWbFAtZRqTB2YdODt1gIuU2EGy0+QiK4KldqTsptVty1agthV2NvzYqVPy1bw4eCB463N/9pmBH5Oq8puqZg7QWKcoVLGOcVA2Utv0eQ/AHFT0B8CUjjlXxMbMEStHvaYxeWDWgTNfByjBcpUxO0hKrJQg2XlqR2qEFPVjO1VDP2u3xtMwa5vxNY51Wg1TW9Man41+9NfVznRTytVn6zyMgwnje5nu4eOA8px1iepn2gRe1jHWNZqR2K5NAL7jDmmUVFNRZWUakwdmHTjzdYDtjdt+qNalpMLtPlRHa0dq7JrVz2gz3PhMt62frTjWfqd6tpXXqdIYwzW9rfKZfsPDAeU3NSpUP1NDQfDlFMNI7tsFgL28vHA+G1WtUxJWNbSqorlIgh/POE+jH9O0zRtpzDpwZuoApUauaKZUQkmFKlwullF+D0+3bFIZKxzQekPg5eIr1imCL+vYSO7bTQDuBmBrVZN+UNM+Mx2wyVeTr+wY2Ulyfo7zv5RetF6MFeAw33N4OKD1hgDM+V8uyKPkyzo2kvv2cZ2dnXIR9lAkYE8vL4xE0987DCQBc7M+P95QPtJwjKhGesXQCm3aJlCeqTpgBGCuNDYBeHjAaCxS0Tp63gCwd7daWoB2FK+QVlDWxVjWKmgjAJ+q4upHZjyju790Gkdt63RG//5omP4mB84nDmidp20C8Pn0Zc/tu2i9GgwAn9uS9s1dJGAFKaOtUiNt+nt7e4+qeeKe8hu2IRnngPVwjsECMD8wpWSqy7hxn/vK1I/+Rglan9XWuQiNwxV53NDPuQrSMH8mB8YKB7SjpD1YADam+e9/2Q5PbYxpxgpvx/J76vcedQDMfcC2gNfoN9rdArzdC7BUAj5dACZo8tQbzi9wBSe3T3CTP1dxskNhReA+NO5r5LYEgi2PqCNoc/M+FwXQ8OQdbvInKJs/kwNjhQPaUdI+HQBmuv8OwhjzGSu8Hcvvqd97VAOwqmlHO+Bal1+lYbfuM691BTRBeCgSMD8yJ/gJnvxxzmrbtm1ywg4lWm6j4Ek5PDieR9gRqLnKk+fK8gQfnrRD8CUdrvrkofAmAI/lbmPsvbt2lLRPB4D/cOI/+O6jH+F7j32E79E2msc+krAfP/UJPvqkd8/v2OPy2HtjrVejFoAHAl+qn0+tgrbE0bgjwVYgVgCm9OtquJjhywIwl7o//PDDAqI8Jo+geujQITnc4+677xbJl50MJV8eOECJmIaVhYtOTAAeex3FWH9j7ShPB4A//NfnWH7gPVRvfhs1W94Wm26jUX8CNPOgutrWz1gOa7et+EP1s6ZpfB4qLTP+qTmg/B11ANzZfRSlR/dcr4KW2kYgVT+xOSdsNS9sjDsS3FpeBWCqoin98kzo01FB8yNTAqbKmT9KvDyAnQcKUMKl2pmGt6AQmHm+LSVc+vFGFp5by0MHlI4JwKduWGaM84sD2lHSHooETLXzOx98jtbd76JtzzvYdN372PvVD7Hn9g+x93aLvfvYh+i88l3UbXsHdz70r34B2FgGtk+j0bBTcV3j0WZ647PRzTC+p+ZhDDtVHmb44DmgfB11AMw5YAITQUoBS21rEFV/L66KdnaCh7NznzTW8c/1s5bXCMCUgvVShqFKwGxE3K/IQ9e5z4yLq3h8Hk9O4pWG9GNj40ItAi2BmRWDUi8PGaAUTBU0/Skh8+B20jR/JgfGCge0o6R9OgC8YM+7aN/7Lh7+9cf4x0ef4/1/fo4P/mWx33rvc+y+/UPUbX0Hd/7gn6cEYLY9Y3n6c/Pb9Bd2tvzHSv043ffU7zDqAHjZsmWwJf3aAs8eQHN3h/Pk8XCxmwQvDwXuoamglZbRZp7GZ7ptlWOwfkrLGoApBfMihqECMD8yF1/xhhOCrX70/uz+GjgBmDex8Kg0ph1sAz/dymmmMzkwUjhgbCunA8Btu99F6+53sOqq99B13fvYcN37PfaGo+9j8eXvnhKAtV1yAM31GocPH8ZVV10lmi2G0XDQrG7aLCsNy6/PtLnIktcfckEmnznApk1D+rwx6ciRI3LVIRdsapjGU3q6NsRIw8irkfL9Rmo5lFejEoCtpd/+AE4BzYtS5OQJcLGbDErD4t89T9xfWmv/HlqnOAaT6azjqp/RtqavYUxrC4BVCh7MIiz9uMNps6ENJz0jrZHaSMxymRww1tPTAuA972LBXouE+9TL/8avX/w3nnzJYj/23Ce49Mb3TwnAWoZ7771XNFF6frAukuSUERdV8jpCgiiB8/7775frBVlmrvV48MEH5TYkTkexD6HGiwswOdVErRjbNzVh1113nVwMwDUiN998s2jBlD6vMiQ97ppQ+tSUcfEm6TC9ltWsOQNzQPk0KgHYCHB9gYwSaK8U2hNvEADs5TWwRNxD6xQAPJR4fcveC9z9ATClYN6GxI/HBtPfTz8uGwvngHnfZH8SMCVkqqO5QIs3LClt0jeCLmkZ/YxuzY8jaz0dSMPV7o8u/c2fyYGRygGt27TZBghwBJqBTsKSut49B0wJmHPAW276AAfv/hAH7vo7rvzG33H4nr/j8Df/jpWH3rPMAZ9CBU0t1GWXXdZzWfs3vvEN3HXXXbKWg0DJ9R3cPkgg3LNnj4Aw4xBkeYc413fccMMNuP7663H8+HEB0IMHDwoo02aZ+V633nqrSNOUcLku5J577hE/blu85pprBGx5JSpv8OFWRQ4Kvv71r/cs3JR3H6BvGqnf+WyXi3yiGXUAbL0PWEFsIODzdKMK2iIBe/aooG1f6KD0rG2lz/lnOzs7ODk5ibp59uzZoh5mONNovMHY/eVhC4CpfqYUPBQAplqKo2I2OD2IQz+8NhTSO3r0qKyGpk0VFeeICca0NZ5ejaWqLu4J5h5jnTdmXCPQ85m0aFR9xbR8ZidGo2U525XfzM/kwGA5oHWU9mkB8B4LAO+780Pc9v1/4NYHLKbr6Puo3fqOqKcHMwfMvAmUnAoiUFLKJaDSjwsqWT5KqlRNE5gZn9Iu1dV8ZjulVEswZn/Atk6gJnhy2yEH4grA+p4EVwIypWv6PfHEEzIIoDTNtsw2TEmaF8SwHByUKL8Gy9+xGk/5dB4CsCe8PN36GE9XZ4sKeupkuLl5wN3DE+4eXj3G07MXjK1BUZ8VULkoavKUKZgxc6aoimfOnAlHR0eZl6ZNKZUgTbAkkHIvL+dwqfomiNJPaSlttdXfFgDrPPBQAJjzPFz1vH37dlFHsbLrh6dNYOTKZkrJVC9x+xGBmqufObrl3mA2Sqq6qLa677778NJLL0ljZcPmiJuNnrT+8pe/SOOmBMwfOwqOmDki5z5kbcAcVXMETX+dRxqrjdB875HPAWN7UWBimxisBMxFWFRB3/7gP/HL5/+NJ35nMVd8/UM07XgHDOcq6K/94NSroHltHdsz2xDbD+dr2R65yJKSLsGUki7bHUGS7YzhBFg+s83edNNNAqhcUEl1M9s4gZU/rvEgMD/00EP41re+Je2dAME0zJNhBHECOtNRwma/QRU0BwM6EKDWy/wNzAGtV+cdAHu6O8LdaQo8HCfD3XEyPJwmw33+ZFmE5TBtFqbNcjcYD3E7u/YPitbgSCCcNn06KPnOnz8f9rNmie3g4IC5c+fCYc4csQnMlJJnzZ4tcQjcdHt5WfJSukZ7uAGYoLh//35s3LhRJGH96GqzoRAEOY9DkOSolg2WaqrvfOc7AqgEX4azcROEuaCLv8cee0yAW6Vkdk5suJxv4o/SMbc3EdDpr3NOlKzZYCmZq3paEph/JgdGIAe0rdA+HQBu2WVZhMWV0O2XvYuOfe+i47J3sWDPO2jbbQHg2m1v446HdPrn5CkZYxnYjji4ZTvktBHbEDtxDp45l8s2zN0LBEq2QYYTYAmUHLwTWJmO8bhDgvEYX9+PNEibYdR60Z/tn3myPyE9tmk+U+1N0GafwX6CEjHDmcb8DcwB/aajGoBtgZeH+3y4z5/Yaxwnwn3uBDhMm4kpM91PMlNnusPZZWgAbDd9ukiz06fPwPQZMzBv3jwB5VmzZmGmvT1mOzhgXjc4E6jt7e0FlBlPQdbWnLOGDacEzAbHkfKbb74pDUM/vNpsMJzPISgSTCnBUuVEqZhqZlYQjpbZaLn4giNv/jjfy3RsrJS0qeJiXlRDE9TZICkxU1qgP1XPXMFJuhyJ65Ym5m/+TA6MVA5oO6E9FABm/E8+/QL7v/YhWna9g/a9fY0AMEF4zztYsv9dWZzFNNw/bP0zlkEBTuLaWBjJcI2jNts254+5uplt1UivPzpGf6WjtK2flZ7689n8DcwB5dmoBmACloKwgpeXpwc8PVzg6eEMT3dneHm4wN3NCXYOMzB9ziy4uHrCxc0Trt2Gz8ZtTUrP2lb6KgFTzUwJePyECZjv6Ah7e4skTLeqoadOnSrgTOCdMnWqgLbSMZZd89IwWwBM9fVQFmGxMRBQqSKmdKsfXBuHPjMO1UmUVgmy7GSo6qIf0xE4OcKleomqaV3MxYqjkizjMB+qukiHIMuRNdXYjEf1F+eYdDUmpWmCuTbogauqGWpy4NxxQNsJ7aECMNPwiMk/v/NZ/+btz/D2+58L8Gpe1m+r/rZsxrXlb+3H9mcESOvw4X62fgfzuS8HlN/nHwCftErZGx6eHrCbMxUz5k6HZ7cKWMHO2lYwtLY1ngKvgiTVzgRlHhlJ9fOcOXPkmdcjEqAZRvUz4zGN0jGu1ta8NExpMy+mFfqurnByGtoqaDY4SqY0AzU+BUKtFHxmZ2N8ptuahvFZaVjbSoM2KxulawI3QVvT962a5pPJgZHDAWP9PR0ApkT7+X8HNjx+0pjPcLy9kV5/7uHIx6RxehzQbzLqAJgHcShQ0Vbw0vuALWFcjdy7IpkAPG2OnQWADSDYh043cPfQs7FPWOMzji23r68vfHx8bIYZ0zCtrXyUZv8A7DSkVdD8yAqIrCb6rB//y9gKngPR0LyNcbS62vLTMNM2OTBSOGCsp4MF4JFSdrMcI5cDWq9GHQAvWbKkjyTZH5gZAc8WANsCwIH8FByHw+4vH6VtC4C5qpqLuoayCpoASEmTqmWqmrmogosmbAGjVojB2KSpc0kKxGprej5zwZVR0mWYrbxHbjMxSzbWOaD1mfZAAGyMZ7r7SvQmP/rnx6gEYKpmFaxonwrQCMBTHaZg+txpPeDdX5qB/I15qpvxjW5Nr+UyhhndGs9oa7gtACb4cg6Ye+5YoQlk/f20wnMxFBdFcS6WKx25aIrzuAw3qpjp1mfaXAlJgFU/Iz26X3nlFZkj1m1E9FNgVZtq75/+9Kcyd8wVlwOVt7/3MP1NDpxrDmjdp832wJW+trYhGeOZ7v4Bx+RNX96MOgCmCtrN1bUH9BS0jECmbg0joM13mQ9HV8eedBpnJNnG8rLMOgdM6Zd7jGkP5ShKdhTcE3jppZcKEPJjc+8eN+JzsRQXVBFoucePC6UosTINty5xxSRXLXPxBuMxDff/Pf7447LKmRv6uc+Qm/0pWdOfK6RpuCCLEjdBn/66AORcd6Zm/iYHhsoBI2AYAZhbfLhVh1tyrM0HzzyD/1x8Mb5oaQFqas5783lnJz665Ra8e+LESbyw5o353FtfeAIh6xEXrbKPZT/JOkZhxVjvhlpnz2T8cTwJSxc2KWCpbQ2m6k/bm0dNGuaFxc/GPK81jbP5rOW1loBV+h3sZQz68fhRCZIEVK5K5j4+7vElyFIy5t5AqqQpqfJQDdoETu7x5UEDehoWAZormLkfkPsNWUGoCmfF4S1JBHYeBEBJm4agTKmXtElLAVjLdSYriEnb5MBwckDrLG1rAKZGidogo/nTT36CL+rrz3vQtTWw+LytDa//5jd9+GHkjenuW1e424TbNalxHFUATMmQIGytilYAU9DUZ1u2xhlJtpbTCMA690vwHSoAc7TJc2KvvPJK8CxXAib3BHPkRUDmNiMeqs49vdxCxH27VCtz/y8bC/cOU4qlVMuRGvcI6wZ9Hq5ByZfpCOzcVsR0NKxYBHKmZ1qdL9bObDg7SJOWyYEzyQGts7YAmJ0nB6ZG8+mKFQK+H23dihNPPy0DWYa//vpreOP118WmW57fsNjG9KPR/adf/hKfbNwo7/3Pffv68GM0vs/ZKjOFHPbLow6ACVQEXxdX135BmHFGErgOVBYFXrUVgAm+nPelfToAzHlYzvlSvUxg5Sk63M9L0KVUS3DlQRpUL3N7EKVgjvIJ1DwHltIsQVwP5yBAE1xZYTgXTYn46quvFrCmVMy0qkKh9ExwpsRNUDZ2ZGeywzRpmxwYTg4Y6621BGwNwK8//7yA0H9bW/Hayy/3ANErr7yKXz31HB77xW/x2C9/i8d/8Qwee+y3+NnPfoOnf/t8T7yz1fGfiXz4vqitxX+bm8+L9zkTPLJFc9QCcA8Iu7jIXlkFr/PBlsFFN/hS0td9wEOVgNlhUPqkesPYkZxrNzvI/srwZTvP/ujS3/yZHBgqB4z1aSAApjTz5qOPCgB/0tXVI/my033muRexcvsdqFt1PRZvvgOrdtyNXVfdjxvu+Dl+8eRLfQCLdKyNrY7b6GeMT399NsYZqltpDMX+bMkSef8Tzz7bU4ahpB9LcfV7jGoAVhBW6ZDARelxtIIwy0+wVYmXh3AYD+IYKgBr58FOR920Ka0aJ/r1Wf2snzXNQLaRvtGttIx+1uWxDhtqJ6nxjXT6y1fjmrbJgcFwwFinTgnAP/uZBYA3buwDwL997gWs2n4M+e1HkLOA5jDyF16NhnW34tEneyVlI3gawUg764Fsxtdwo1v9TmXbSmPtp8+0bZn/LF1qAeBnnrEZbivNWPXT7zHqAZhgS9AlUCkQu7paTp8ioI0G486TtHjdYPc8L99Fy/1lAZiqZ+tFUMZORd0KWLTpp7YxXN20SVcPa9f4mkZt6zjG9OrmXDH3CuvzqWx2mqeK01/4YDpcM47JASMHjHXpdAD41W4JuHPr7chtP4I8g6lacSMefux3fYDTGpC0o6bN6R9ruz8/rtnQtKSp6Yzx6WYYF5PRMI3mzzCNq2mVHm2NZ7RNALY9MDHySN3Ky1EHwJ2dnQNKuCpFCqC5uIg0SYlyxBoD6Ir07ukpAwq6+S5fBoAJgFztzDlfzuOyMyE4KkAaOxd1Mz4vSmBno3HVzYVWXO3MH+lxHln3+NqiyQNAuFiLAwClr/HUZkXk/HN/4epPW9PQVjf9WT6jIahzRTfnrI3pjR2r6TY5MBgOfMHrNX/1K3zx6adSx3QfMMHKOAfMjvVNGxIwAZgS8Iptt4gEbATg2jU346lnX+kFyn6AjbR5/+/u3buxdOlSrFy5Evfcc4+sweB6DbYhBVwukqQfF1YqiPLK0a6uLqxfv14uZSAtxmFcbmu85ZZbhB53L7CNkx7DudZDQZrPmoeCh4KJ2iYAjxEA5oKmwaiZCWKjwVi/i5b5ywIwJVSCEO/9ZKMjaBE4eZUYL1jgQinu2eVCKzZGNjAu1CJo0p+jM4InF2tx+xGvEOTCLP5IjyupSZN0GMbtTWywpK/gz3wYh4arr5mOC78Yl4vEmI75KFCyfMyLjZxpWC7mw3tOmYZAy2vQmAfTcQDAxWDsBBiXK6/ZSTKM96SyHEp7MB2uGcfkgJEDXxw8KGpVdHTgi3vuwSfvviv1cGgA/CKWb729j/RLIK5dfTN+/duBAVjBTqVRvc+XbYK3jHFvvu5m4OCZl6hwkEyQfuSRR6RdcEDNxZJsM2zXBFpuI+SZAFdccYUs0iRg79mzR+7+pTRMgGcctjvSI1CTHoGYZVLQNdomAI8hAB4sCFuD22h4Hi4A5j5crlZmIyOoEfC40pmNiaucCXZcFc0GTFDkwRsESe4dJlDy0gSOntnw+Eypkium+eM2JUrAqmbmwR4EbwKqStCUEEiDEimBk50Dt0Gx02AHRvBkuZQOJWYOGJgX/QiipEXa7DyYP8GVI3a+FwcDfCeusiZtlpN7mzlooFqbnQjzMAHYCCmmeygc+OLOOy0ArAdqNDfj39ddhz8/88wQJOAXsWzzbchrP9wHhKtW3oQfPdG7Cvo1G8BmBGAOLlnv2WbZBnbu3CmD68svv1xAlM/adrdu3Spth+nZJjdt2oRDhw5Jm2Ba3vfNNkOp+oYbbpD9/DfeeKP4Hz16VPLh7gmeIcDDfBiHAE/A1TIZwZduE4DHGAD3t7WHIDtaAFrLqTbLPlwATABbs2YN2tvbpbGx4+GKaDZIghNBkI2KI2I2boIlpUyCHoGLki3Vw6p2pqRJkOOP4E7gVgmTgEzw48EblJj5owTOETRpqaTM/CiZUtWlcZiGIKnXHtKfI37uIaYajMBOoGU80iJQs0zc5sT3oc1OgoYHgzBfgj47Gf5MABY2mH9D5cBnnwGsQwq+Rru2Fu/edFMfMLKlgiZYWVTQx5DfYQHg/I4joo6uWnUjfvzEC31oWIOaAh7bA/fbE4AJnDt27MCBAwcEiCkJUyu0ePFi2XZITRDv3NaDQtjeOfDVYw+5NZDlYjyeE0BwJQ0Oznly3caNG2VgzD5h3759kg/bmwIvbVvlNAHYBOBRs/fX1uBBpfPhAGACHiVBNiiCJoGSwEhApTRJCZMNmqBKoCKI8XhJPlP1xAbHuFQ5EfjY6PlMaZS0uL/41ltvFQmZUikBkpIt4/JHIGe+jEMpl2lIg50BabBzoOqb6m52ApTASYfPHAhw3prhzIfAzrKTPgGZIMtBA+lZH/JBsCWdJ554AgcPHhT1NcGY/ubP5EC/HPj0U+D3vwcefBA4ehTYsAGoq7MNvt1AbNzzSkCyBcA9c8Bbb0NeR99FWJwDfvKZgVXQ1gBMtTE1QWxDlGgJmtRc/f/27vzL0qO8D7h/8PEGkmbp7d7b2/QskH8hy8lyDPaxYyeOk4B9Yh9swmIQMbZis9nWghaEACNGCC0shgA22IdzUGxCnMQGZGwMORhMzKJlJI00gGTtBoEkpMr5vD3fmdKde7tvL9PqvvO+fd6uequeeqreulX1reepp+rVz9zAFXACZ/0IWOo/l112WfEdbpovGjCg65kErN8LTxwtFwDHL3RU1C0Ajw6wgyYodVjqkpBkTNsxJ2ExwhoEXuMQtpkADHCAnpmxmS5A9kzFTFolVVILowPEOi2X9KgxaCwAUDypU4OhsgZ4+JiRk1i54tHhTWrmxwfIogHi8ie54gPk0eCFxi1vfAG5vNEqn3KZuQv3Hlxlly+Qxxev2jXxwEPe3h9fNO3V1kBTA488woihlI99rJSrrirlvPOaQyQGSrq11Nvnv/uDHzwBStrbMAD+0t99pbz68j8sP/Mr7yg/9eK3N2ro57zgyvIfXnFd+YvPrmwFjW8Ga36TZ+1amMmpibQwWiuDuSUjfQPouvUZ/Qtom7DeeOONTXrgDFRpqGilrCmbBKOTBh16PPG3LJRycJWl/24l4FPrpL+O8py6bAF4G50HvdkADHT67wBxwFc8f27xoQmo1TQJA2qAt+aTtOjDA00AMGFJk2fx/WHi6nz50QlPutCI67/R1nzFt9cZWAPf+lYpX/pSKTfcUMqVV5byyleuKNWOCsIPXnPNSGvAGWj/7itfK5/6y78pf/qJz5UP3fCp8tZ3/Um56vf+R/m7L69/HzCgDf9+V5zBvj/cc51umH9QujosQFK7LQC3ALyjpePTAcCALcDVD1KegRga90qA1p8WPdXuSmnERf3bn3615zMQKtpX3mgNPPxwKV/8YikMBd/yllKOn8s8KqieoPuFXyjlda8r5brrSvnTPy1PXnHFU0D70Te/ubGfOGUb0pCTsAJczoI+escd5c6jbrsObn8KQNZg1u8Pj7ji499sdzXe/WXL8+M5iKM9CesU7UDqKG5+s7GVgIHZKGrpUelG4bVRms0GYCBJncRYilp5EOhZf6CGsqZqQBlE0x8GWKl/pVkJuKmjY4TVz2O1542OxW36M6AGvvvdZSMpAPmylz0FJE+AaZ/a+JTwl7yklMsuK+WDHyyF/cKxY6z2TlSedloYHh7n873Xv748cN99AwH4Dmrt5z2vfO9FLyosmo8cGQySt95KCj1SrA9nIOZmcN6JruMnnQX95M/93I5+j62q+/zuYwXAAbD1uBsFz81In3JvhhGWgYP0aS2HoYa11H7QA562JDDGYGxx9dVXN0ANrEnN1oDx4Ldua102PKwH4wmMxWftmLEUGuEx8uKXl61B4llQhw+ebnG1tHxiBGw9bQ0Mq4Frrz0BjAHIoe7zn7+81nu5WDTyAAAgAElEQVT48LI6mqRMPb3K1bRToAxcrriiPPLQQ83kc9A+YIP3I699bVOmb19wQbnzb/7mFDUwmgy+DegeB+GtGvhPRz53fe5z5TuM1p73vPLIb/1WC8AD1sf76z1tYOwBeBgwBuxqdxjtVoWnLJsFwKTUK6+8sjkBh9FFQC8uUGSgwcjJBn3rQQyjbFGyJxBwCwOktikIB7ouFs7CgC/wRG+LBCtNjc3aL+tqltP8wPXw4cMN4NsSgSdjEpbN8hEHnIG18rVXWwOr1sDllw8G4Be8oJTzzy/l3e9ell5vvbUUW4rWcaWvcPUXFvb61TAAPvaZz5QnqbBXk7zHMN5XoO48vle4H3Da56euD+9oAA5QcWtwrMPn5ubL9MzM0HtmZqb58EGdpuY1zF/TN/4RT+VKukMHD656itdmATBgtTfWnkEAWw8mtZ90y3oSmAJAVo+2C6FhdczPOtI2BaDpAtQsL6Vxs8g0MLE6Tl6kYmkjRZPGk5etSZ5JwyRgm/7RG+Tk215tDaxaAyaDQJgK+sMfLuWv/9oZqasmWwtB3U9WAuAMqNw7/vZvy4OHD5fHX/SiMwKIAS/J1/eP63po/U9dYhhUHztSAg6YxQ1Y5hmA7dq9u0xNT5fe7Gzp9Xpldna2ufl7vdkyOTnZgPOzDj2rAcTwWM1NHifd0Y7FPEm/NQAMSEmmgM0e31rtWw8qwNPJOtTQ1myBJanVXkCNA9CSdAGp/YIkabztL6a+BqR4k2SBK/C1NUI6oIzG9gZ80WiETrByyIb1YXsY+eXfAvBaoKGl3YoaqPtKDcBsK9hP6DP6Gbe92zpYSxsw3tEE2qZp2c/2SW0sWsC0va1o56Pm8X0vf/nLV5UgnaG8a9fu5gMMAdSFxeWP2+e52+01AL0WAD64krR7YHVgHQjCPp/Y9wnFzZKA/aD2+AHP+kdV2flxqYdJsqRRjYDE62hHewRzgAZJGpgCZIZaGgkARuPACwBMgrZmrDGRkknD4sNHPvjiBZDtK8Qn5cNf3srZXm0NbJcaSD/h1gBMpcoOoo5v/aduB2zrZOU6yZi5YwDYQRy+mTs/Pz8UiAPA8wsLjYqa9EvlTCpOum63u2YABt4B0fm5uTLT6ZYGlA8cKJ3OTOnOzjb5hSbu/Nxsk1en2y3KlHDqaHHzC4ulVk1vBIBHafAGt366GqBrP7r+5/60Kz2vlNaA5gAAUnUO68Crvdoa2C41ULftFoBXBpO6rlr/aHVFINlREjAA9mnBgGkNXAG2ADA6/nN27SoznU6jct61e08TtlEA7nU7Ba99S/vL/n37yp49u8tMp1fm5ubK0tL+0ut1y8LivgaQu52ZMt3pFt/9nZicLPv2LZVut9OowufmllXjs3NzDQhTkfuUYuf4+jW/CQfX7Rg5jRuwDbpGafjS1XR45Q7vfuBMfML7n5NuEN+E1WkTRuqlikmc8PZqa2C71EDaKXclAN4u5W3LsTNqIO1qRwLw4sJCOfucc8rZZ599iiEVEF4G3d2NtEnqDB1Ati68uLiv9Nahgq4l4Nlet0xOTZaZbq/Mz88tryl3uqXX7TbAunfP3rK0f/9xAO6UTrfXAOz01GTpzc41QKwcnZnphgeDMQBtbXqmAexOaYB7etlYbD0ATEVGDV2Dmx9+0LOwOjzPVMeOfsxzGs4gN7TWQRJvfUwZ8qx7xB+3zndndJ+2lGdKDaSNclcD4JqWf1CfWU+99fPNc3jlOfkJT1i/W/e1Oq4OD9+V3Dotf/JcKU0bd7IGUn87FoBJtZ1Op/lyUCTfuDUAR/28d2KiAe3de/Y0H7lfzxpwDcAk3G5vtkxNTZap6ZnS7XTKBLBcXCx79040Em9Df+hQA6QA+MD+/WVycqKZGEx3OuXQoYOl05kundm5MjvbKxMTEw14z8xMl8mp6dKZ6ZRur7duCZhxk68OsTJO5wSGzmwmeWoE4qwRawgBSoZZtgQBT7dPBDI4sdYbPrF+5gqzhiE/a76AXxhDLMZVtjqlwaWznmyKra+tge1bA3W73QwArvlthl/NrcZHXwxN7U8Ytw7v59n/XKcb5l9PmpqX9ON85V13JAAvUNF2uwPB96QEvKtRVeeZ9Gv9lSQJGE8A8LPWZwUNgOfmF8psj2q7U+bmemVyeqYcPHigAVLq50wIqKv3AOWZ6QZQTRBIvAcPHSzdDkvtubJvcaHs2rWrUWmTqKmqp6eni+1Ua1VBpzM5qcreXF8WYmTFEpmBlEPWfe0IuDKeuvjiixtracCJxslZ9vmyhGYsxe8Tgr5UZB8wiTiHueOlETHYQsfQyl5JDYxfmL3EaXDc9mprYKfUQN1u1wLAJrkMFVlL45E+ye331881bb/fZJeWqaav+ZlMR/uUCbKJMUOfpGFIyUAyz3FtH7QUJE9Xzbf2p0wJU55Mwus4/tyh5a5EE/q4O6WNrKececcdCcABttqtpVMAZ42YtEvydZMu3XnONqWk445yJ88YSuUZ8PIDUsDZbzGtTNLI4ylpDxw4MZE4UO0RJi0D3qWlpXUDcI6Y1EBIp76CxOLZR7vf+c53NocJAEtgbHBxaRCAU6cCxkAa2JJiDSZ4ogHOPolmixNTeiDvEA5W0aRuHdpnBm1xkiYdj9tebQ3slBrIQMkdBYCBDFCiNdKP2GzoQ+GT99a/6qt+Rls/4+eq+7OyoMslX18/MmF26av6rAk2rVQuuxgAsCt8+fVd4CxfvHLVedCQ1Rc6k/wczlO/Y9L1p6nfC02dV8qTtHVe4+ZPXe04AB60DSnAGTDcv/9Asw0J2Frzney/p6YacCaFSitdeKzk9oNq8osrLSvrhYXFE9Jv4tbiBqCB9kYAWIe0J5eVnb23JFug6dk3f3U4M2Z7cXVY4WbuANlJPzkFC4jyu6mrzaoBLb9ZvjS2E8mPhE0aNusGyu94xzsayTmd7UzoXOM2WJzJ75OBkjsqAAMZmh/9g7ZIn9C/9AkH2ug7+pzJK5DWT+zXd9ANgASGJrh2COi3wm3dsw/fvnqgKl56vOWFzglznl34e8bfMbNoTYyBuHJZGjIZp9Vy+7aw/h0pWrrkIT9pTSrcnk0shCmT8uf74vh7V2DK7zQ8/OXlPAG0/MYhfmcOmCj4xrcyW+qq63xc217ecccBMCvoGsxqwDwRfuBgs+1oz969Ze/k5OB7YqLMzc+vCYDldSKPSlrd7LCNAnB+XBKvjqTT27doJg6EdYBPf/rTTYdDa9aMJjNgHdG+XLQaiA6uk+AHnKUxc61va8pmw/gCaHE6oeecjCVM2vZqa2Cn1ED6EncUAE7fMCkFUMCU9knfAsaegW2WfywR6Ws0UegcVvOe97ynATSaJ2ANpKTXl/Q/R8ICXAAWgKOtsswUANan9UeTYcAmvXwD1ngBSpNrZTEhdwKeCXW+C6zfsvtwVKzxQTlptQCzvPRvYQ7XkQZ/S1JU2cYDvJJGOfHHD4hb0gL2yuW9lQNQEwLqOt8p7WSt5cw77kgArkG39vcDYYBsoDsAQGtea/GfyPfQoMM4RlNtyy98Ut71SsD5cTMYRF3lmd8d8AxtaBJe0/T7kyb88yxt+CQuaUPDba+2BnZKDdTtVlvOWdD9B3F4n9ACJoBjwkpCJO0BIuAEXMVJD0hJhUAZ8FgaAkakQWlJwNLRLuFhQgyMAR0pFKCRMkmjTqEj8UrjMmGmekYnX/lJS1IF3LRVJsrAVV4XXnhhMyEnvXtPaeQDhJVLGU0grr322qZ88kUnDxN6fd9kwoSBn7SPN7uSq666qplYeG9g7Z2vueaapgwmFIDXhCAau3rM2CntZK3lTFsZawAOoI3irgVwTxdtyrnZAKxD5Afnr+86PH5uaGp/HVbTxi9e58lznTZhaOJfzdWoB9EMCx9EW4ettZO09G0N1O1H214JgOt2yQYCsJBALfOQGIETIAScUUEDSCBGogXIgAsdADQ4k2T52VmQLPHhJzFKB0RprKQHip6VmaRJ1Uyla43WM5BXLi4w9T4kV5K2tMopzAX4ATa+dkQotzxJ1SRnEr58uML065Qz4wBpXBmBeN7RBED6SNWAV75AnJQdvqn3cW2Beb+xAuBaigyYjeaOLqWeLvCty74RAK4HAT+yztB/J9xsV4fV6dCkUYReHBrhZtgaS9KGXtqk00l1pjyHT2hJBgYEbk1T86jT5F3qsORfu/xUcMknvIUxOAn/ce3M7XudvhpIW+JqRysBcE0bf90m+fWngB6Q06eAEHADgoyW+tOE1zA39Nz4h9EOC086rosEDaT76UPXH25yYLJR9+3QSEPKDj/qaROP9Et0g/ievl/16eecuhk7AD6dAHm6eWeysJkAnB96kGtW7GtJZqSD4qmdotJiHGJGO6ijJK2ZO5VTnmtXOp3TIFNbhdY06/Wb4VtTyvqRvMz0qc6o0UwKhLVXWwNrrYG6Ta4VgLU5Nx61Hx+AZYIojus5k92aNunrcgzyJw3XlTwH0Q4K689HGWuATJp+ujo85U9Y7eJVp+2nreOSbq2/1U6izzu2ADzi9qPTDb6nQwI2m6Yeov4BoPkUoMZv7YW6x+zbmhBXY9BRzH49U3eZrVOLUUcBVxfjEmtVZrRA2roO8KNWC7jKg6rNzB69BkdVFuMNz5kJo1E2B3cwEkEjjbLgZ20IDQkbjXcxo3YDVwOY9TETCZc03gk9f925G4L2X1sDI9ZABkqu9riSBLway/DSHnMLi//pbqcpn/eIP+6wd0s8d1D5E593DO+aFs2ZdqVeWgAeYwAGnAwjgKT1KCBnSwNwpP4CUIDVFgVrTQw9gJq1GC7jDgYgZucAGxDqOCROaaiTWUVqRNTVLCmBrIt0bcsEHqRQDQ7gA2nWjwYzoIln1orEX3nllU0YS0mAD1RJsgxTlMEzS1GGHO5sWyCpB4C9J4OUWHvXavEzraO377uxGshAyd0oACtJzY9/UFjCN1by9aVO3nU5V+JU09X+pKnD+F39YQlPmjPBTR20ADzGAGz9035eRhCAGCADQAMJMAOWAJl0SRoFxgA3RhWxvNQhAB31cToLOqAe6VY46TUgCJABvHjGJYAb8ANdgEgdbRIALOVNStcYSa7iTQLk6R241peUj6TNkEOZGY9E5U1SZ5ziAuQAmwZAOUOTsp8JHbx9x82pgQyU3M0A4M0pVctlp9dA2lULwGMMwCRLEihJkTRoAAFswpyERfpk5WirBKnSM2lXGCtFkicAA362DThUA9C5SMGAlfoXmNpv/Ja3vKWRiAEvNTbpGMDbDyhvgPu2t72tWa8F1HgoCz6AGXBefvnlDXDLG+DLnwTvHfjxSeONa5Jhe4R3ygQA8JPIgTS1YWh3esdty7+1NZB2w20BeGvrfpxzS7saawBm1JS12xg4JSzPid8Obsq0WUZYpE5roFS++cFJobYVAE6Sp3AAam014CaO5Jk01MnWe0nQ+AnHG1380ovXoACeePzlLU/PeIrHK6AYGvHKAYRJriTo8JG/Mqc8aHMLw6POO3TywyvP3PZqa2AtNVC3nfUCcM1juH8tpWppd3oNpB2MJwAPOGQj4NbvbgfgTRlSts0C4PzI/S7wGhQ2KBxdwG5YfHiJD4jX6er40AzjlfC4Sbuai361NDu907bl3/oaqNvdWgA46ZT4iSf0oeF3aLntdWbUQH7zsQPggNha3ADgqG7NW5r6+YR/BNX2wYOD024EgPPDcmtAqgGKpDkobhB4oqvDa/6D/DVtnWdohUUiTtiZ0eXat9yJNZA2yh0VgOs0/MD3e4Pu7x0H5erLQejba/xrIG1krAD4BPgdl4ABmfOee73Z5otCjnbk90nCftr1gG8/j/7nZZ7Lx1M+BaiB8wpS+ukCYD868HNiDfVsQJhr36x9vGiomQPSsYDmhh4Nf+40Jmpg25OojuVj7ZgBmIELLXVwLJ41vKQb/+7WvuFOrYG0Ue56APjRx54on/3St8rvf+y+8nsfvbe53/vRe8t/++/3lvf/8X3ljz/5YDn6jeWlnOS1U+uqLffoNZDfemwBGOD5mL0PMvgiEtd3hLnn7NrV+GvAXA8An0hz8GDx+cD9B5Y/SVjzHcl/QPqTaVcC4A984IMNcAG0QVd+WC4jJoZOBg5GWH5s24tYHGf9Fx8gKZ7Vs/VWRlEsnIWjQ8+Qyr5e4AqgWSbnWDvgjE4a1tbWfa0Ps7JmrQx45WP/Lj7KlPyVs73aGtiuNVD3p/UA8A2feKD8+1+7tbzgdbeVC67+evmdtx8r573pzvITL7u5/PhLby4/de4t5bwr7ip333vydLj+uqjL0O/vp81zP92oz0kfdy3pBtHiMyg8YclnPW54xF0tr9DV7nry3Yw0KcNYAXAtZT7rWc9qPmq/sLBQ/tGzn92AcG92tvgE4TPPOqt0up01fwmp5r9/aalMT08t57G4r3Q7M6U7O1ee9exnn5CuA9BAeJh/Oe5gU67FfUvl0PEPOvSD8ML8fJmenilrAWCWzLYUMXry+TGWybbqsBa2/cdFYrU1yRdOHJoOTFkuOwwDWJNkAbNPmtlmZL8tAMVbGmANjH3VhOUxS2oGUwAXUDvQAwBH8nZilf3BjLbSCDejQbc82ho4HTWQNspdKwA/8NDj5fm/caQ89yU3l7f/wT3l8cefLP5uOfqdctWH7ik/96oj5cdeenP50f98U/mDjy8bSlJX918pgz6lDG7+hHP7r8TVdLW/jq/Dh/FBn7y5g56HheGfO/nG7c9vLc/hwcXfxd9fztDV75mwuGvJdzNok+9YAXAtbQK8mZmZBnjn5ubKnj17m2/1+kbwWWefXWZn504AZdIFJIe7J7921Ot0SqfTK/sWF0qn2y2dmZkyOTNT5OUbvgB6dm6uzM8vlAMHDzTh1OHi5ufmGtU4kN23uFh6s70yOTVZFvfta4B6cWGh8S8szDfpZ3u9RnXe7XaarTV+vDS4/saQH5YLQAGvbUb1dhxSaaRQ249ItUCaH1Da7kOKpYYmyVJNk3YBLalYowG+gNmBHOIAOQn4d3/3d5utQMpXA7BOgd52JduGHBTvUs72amtgu9ZA3Z+0YX3F8o2tdsP2l0sDSEm1P/mym8uPveTmcuX77y7ffeyJ8pq33VV+4bW3lT+58cHyqc8/XH7+VUfKv/zlm8o1f5hz1k/tDymDfPVpe+GVYyVAkUZftiyETtlNjLnhJ9ye+/6dAuJzhdZYoN869c5OBXyUw7OxAx2tVmhM8JMXP22YeBNv6euy8+c5bvKNW9MkjCsc3+z0UE7lkp9xSR2gURY7K9zGL+EpX/jlnbfCTZ5jDcDWfDudzgkQBn5TU1ONahr4BXjjDgfefKzhJAAD3unp6TLT6ZSF4xLw1HSn9Hq9hv/i/HwDzJNTUw2YTk5MlN7sXJmZmS5T0zNNWuvRy+GzFQAfLHOzvdLp9srM9FRT9omJidLpdMvk5FR5//s/0DR2jWrQlR+Wq+GTZq35cgOIPr4NQHVOEjJgdFMfoyHleibxAl17cgEnYJZO49XgDQjZ0sRPRf3617++afz4kKxJ1fJQHh0DUDtQwwAmbNh7DHq3Nqytga2ugbo/GbDXD8D3lO8++kT55d+5vTznxTc37kf+7P5y/tXHyr/45ZvKdSMAMK1TPu1nj7vlIuXrB1AgpI/qm/buKzPNFs1T0kiHxt58e+elqd9Vv6xvYKZv248vb8tJnu3Rt9/f0hLQs8/fGOG8AZN3vJ0hYL9/DtehKcNbPDf5ql9lynPKiK4Oq8sqvbHE2OUyKbrkkkuachr3MlExHikXTZ1xyrkD/DXfrWxbyXdsADggygWkDfh2u42KeK914KnpRgKmml7av7+RSPtBeE0AvG+pAXDS6uTkZOnMTJdOb67s27fYgCcQpe4WN7+wWKYnp8q+fUsN4E5MTjXA3et1mzVpZe50Zo5LwAcbqViZJ6emG/o9eyfK/Nx8w0tD8+NpeMOu/Lho0hm5GnhAM8CJRuM0E9bQdQB0ZorCPWdPbmawyV9ad541dnyTJ787nR6tgUBeSSdte7U1sF1rIH2JuxkA/MILbi/PffHN5d/+6q3l5qPfKR/++P3ln/8SAP774/3o1P6QMpgIM2zUTx3VCpCByZve9KZy+PDhZkJtkgyAAC+gc7BN+pwPr6BnCKmvOnAHoNJaveENb2iWnep+mXy9N3AF4Po2mxBpAauyGB9e97rXNXYkNG1ZcpLeEhT+8kNLYlYuwH/xxRc3B+gAQ0CufHhmQgFYHU0L1KWRp+UzAgTBwPG53s/7e1+XST5/xiBjjbpxSNCll17aaBCUSXlf85rXNIKEd3Zv5ZW6HUsAJoXu2r27AV8ScLfbbdZPqaGBGbUvyRSNNeJ+8B4OxCcl4Nlet0x3OmXWuvL0TAPA1oAB8HJ+k008ibsB4KmpsrS0v8zOdsvUzEyZnVu2zAbQMx0ThYmyuLS8Bsyga++ePY2Km8QMiKmjScCrAXB+WG4aVh22GX4NdT18BnXuYXy2sjO0ebU1MKwG6va5KQB8/u3lR190U/l3v3Zruenod8oH/uS+4xLw6gDMfsJn/FxU0cDJ8hJNF1ABkFdffXWjYmXvAbTOPffcBsCA4Gtf+9pGUmXfAZgAGVAHbCbJwA2wuaR15CuVsgsY/vqv/3oj/coTiAdY1RHQo9kiFV9//fXNUbcZfxwvi1bZga33QE8dbSJBO3feeec1y1uOkKVtw5O9CqlZ+ve85z0N2DIWJW1/9KMfLZdddlkjiTtrHn8XSf2Vr3xlY7NiqQ2wo1V+9Hh7Fu796t+3YbBF/5Lv2AEwNTNLZxbQ+/btW76Xlhp3YXGh7N6zp1kbFv+Ms85qQC0APBx4T1VBk55tZ5pfmG+k7aWlfQ3AAk9l4AJ3ltekcWVZlrilWygLC4vlwIGDzVoxOrxiRY1OGIkZrXVk8daX12KEtRbAS4MY5Pbz0UYH0Q0K60/b/yyNsP7wLeoHbTZtDaxYA3Wb3hgA311sSfrtq46VF190R7n6Q/eU+x58vLzlfd9sAPjaEVTQgA+AAC62HSRgdhuWg0ioQI2xJK1VwkiZlpqoZgE2oCbBWrclEeYIWtKpyT2g0hcBGWk567X4X3HFFY1KWf5sSEiegJwqVz4BNxIxqVvdkVLtxiD5AklGmgDYu8hHeQAs3sps2UuYdwCs4ixbeTfA7l2AP9sT0q/yAeUAMAlYuZRRGeQjXjrvr4yWxoAwIK9/3xUbwiZHJt+xBWBbjQbdZ59zTiOhsog+6+xzGrXuegA4aU6HC4DdgBuYA28A7LaW4sfTeAdd+WG51l51FANHAI7r2R1as2nrvoNodDANmFoo8cm/n6/43GjE63jU0J7xsnZEPZS8udRmZsd1+KB3a8PaGtjqGqjbqfZMlWoZB1CtaIT15JPlnvsfKz/9ilsaI6zDH7y7sYJ+6FvfKw8+/L3ynUefKH/22YfL83/zSPlXL7ypvOsjq0vAdhxQnb75zW9uVMcAJtIfMHJOO7B64xvf2Khz9SvApcyWk0iR+jp1LLUuCZitB8ACYNTRlpnSh9PfuYCNtKw+PAPLV7/61U1e+Ojn6oTUqZ7caNWRsgFoeSmjCQAAlK844aRv9Qp8AbY8AKRyeQfrzqRWgAvwxVFjm0TgAdRdJhZUy+rIWGm8kTc+8jPOyd+Ypi4Bs7zcW3mlXY0dAAPEBrwA2HEQA2TNffy5Bjj+GkRXl4JPPb1KmprHSv6atvbXaerybQSAgZqGqtEG3HRGjU6H1Oh0FLNd6p50LnFA0yxSR9NBzIB1kKytsIzWuKmu8NFx8XabTQvDQ8eizvKs8RsEzJDlhRc1kFv+6bTi2qutge1QAxkoudqn9j0KAKN/9PEnyqXXf6M858U3lV/6rdvKJdd/vVz0jmON4dW5lx0tP/nyZQvpn/21W8sXvrosMa60DUl/0R+VAX99ym0Qj8Qp3HP6mL4orCnPcb+JcOwyvJPJtYl66OKq//jlkzEkYfgoT8LxIrkmPq54Y07ilZUaHNAaW+yIQCsP6dElrXfJGINP3jn5pD7yLJ3xy5inDvJ+xqLkH1q8s94s3VZe9fuZ3Cirsiijd0z8VpdrtTr4Pmsag0CyBrCN+Afx3qqwlHuzAJgFopmj7UEaOUA1+zNLpepJAzSLtjbjxw+N2SWDCJ0EPT6sCs10dSDWmNRAQNWzmat83AxFdBZhPnsojUsYFZRO47LeZM1H3iYB8t9uDa4paPvvjK2BeiDUPtcCwNJ+897HylW/f3f5L5cdLS+56I4T90tff0c599Kj5XVvO1b+91891BxVmbz6Kzvhtds/SIsbFFanWYs/ZRglzaj5hg4A2s5ozdg4k8nAKHnVNOFXh23En3feCjflNAa3AHz8WMitAtph+Ww2ADOgoIYmnVpLIRFTwwA96ynWeDQERhzidAxSLdWVmbM0JF9SNBDFD7i6SMBRb5sJA14qMryBLHqqLmtVZrsuAJw1LM8kY0AufxMEfNIwmwTtv7YGnuYaSHvkrgeApXvku0806733PvB46b8f/Afq2mUJNXn1v3LCt9JNGUbNE/2otKEzxqjTQUC6Hn7rSZOycLfySr5jA8DDQG0nhW82AFtvAZ5UZtZvgCKLR+ogVpLWZ4AzkCYFm4kCQ5IusAXW1ozEMXzgN2N1AVXSLxCn3pGOxC1dVNxAFdBbl9Lg0AF1eQNjahcqKGmUk+ooDXMrO0ObV1sDw2og7ZG7XgCmVl7trvMZVpZxCK/fc5B/HN5xlHfIu7cAPMJXi7YKxDcbgFkg5uQqEir1MrDL+gvAJcVSR1uHBYykYGBL7cyIgXqEKpkkDGBJsBoPkCUFU1ED8TSo2gWyJGZStVku4wlgTA2eNSrADXytAdcz4VEacUvT1sDproG6PY8KwCmTtK6ax2r+pG3d8a6BtIMWgMcYgGtAi59b+zWEqIESDmjtzaOWjkFVGkxoPNe8hj2Hdx0vbHKBU+AAABRYSURBVBC/hHHbq62B7VADdZtcKwBvh/K3ZdieNZB21QLwGANwfuS4/YCZ8M1ya3Aelac0NSBL115tDWyXGqjbcQvA2+VX2fnlSLtqAXjMAFjTzI/b7zJyyt7FlcAyQF3T1P5+vp6pt60RUzv3x9f84kdjQNMASdzZWiG8vdoa2C41ULflFoC3y6+y88uRdtUC8JgBcH7Y2g14Ws9lBCUuYfHneZgbukF8hWlI9vjaWlTT9Eu3dZztSIy6bIq3tgy8k//O72LtG4xDDdTtdb0AXPMY5h+HumrfYfQaSDsYawCOURMjqvi59fNWGViNkk/KuJF9wJpAflxSJaMne3htD2LoxO/IOXvwWB0DQX7WyCRkxlWOb3OurLT2+DohB7g6tk6DcTGkwitbmeQpjLEWv7Vj6RlyAX2bzIGtMAZh0gWcWWEz9KrXm0dvyi1lWwOnrwbSl7jrAeA6/Ur+0/cGLeftWANpC2MHwAGxtbijgONW0KTMGwFgP2ykSBbIDKmoh4EcAAa+TolhwUz1ywqZBbT9urFOzqcKATOraVuXgCfraFuP3AAaaDqsAw8XPrY6KYOtT+973/sacGdlDYDFA3rH0ClPBjQGXyyzWwl4Ow4VZ3aZMlBy015HPQmrTstvgqkv2gHwD8dPouun8dxe418D+d3HHoCB2fz8/PL5z71ec55ygK521wuwB4+rsOOul490Kc9mAjD1rnVf24UArgPcDSTCc6g5MHaqldvgYB8w6ZjkauuQZ+u7wNUhG/yAnJ80a3+vLU0O4gD4tiU52cr2IqplfIEr4HbIh7JkvzBeyuUzZqTtTB7Gvwu2b7gTaiADJXcjAGx73113HStf+fJXmw8UfPVry8e41vzjH1QviRvmDkqzlrCa71rStbTrq4HU91gBcAAsro8X+PqRjzJMTE6WvRMT5axzzmlcZ0OHjjsqcNZpBvlH5XMScE8Cb/htFIDz41JBk2qBJYkT6PlaCrD0RRDAa13YIR0kUwBqXzDVslk+lbNjIqmR0Tq5ilQMJIEvvvjLh4TsgHf87ScmbZOkpQX0KZO0Admov+WjHAlH215tDWyHGki75a4HgNPeTS6/ebcPMiyfdUwSvvuee5qJKb4rtf26DDVd7d9IXfXzxythG+Hbph1eA6nfsQXggK/PDgK0gJuPG/hGLzBeKwiTcsPndLqbBcD5kTfbrTv+ZvMOv3oQSFjtDm/abUxbA5tXA3WbWysAo//GN79Zvv6Nb5Rjx75ejt55V7nr2NfLXceOlaN33lluv+NoE3bH0TvLAw8sf6BEfv1XXQbaJlop2qj65Dg0o/TLfpr6WXmpyev8Nttf57dW3v31spOf8+5jCcCAdffu3aXT7TaASdqcnZ1tPusHOAEcEJ7pdNZskBXgXViYL51Ot1Ft+17vAedJU0cfP1ca3Ukp9+CJciR9JGXPymticPDQMt1GAFijzI/LTYOPW8f1xw+j6U8jj9DG7aepeQ+KS5j0uRPW/w4Jr92d3Pnasu+cGqjb3FoBmLR75113NWALfO+461g58uUvl1u++IVy5JZbym1H7yxHbru93HLrkXLv8U92yq//ShlosBztSgtFa8QGQxyNFok6dOwthHnWt2ioSOCevQPtVrYLeqaJUlZLVY6dTZ9Ov8Q76fAO33xlLXSMOPHBr39y4LkuozLlNDz8sj6evMX1n7DXXy87+dk7u8cSgOfn5orv/kbCBXadTqf5yH0A0Afvqadr6TiguJKb9L1up3R7c2X/0r4yOTVZlvbvLwuLC8V3hpfzPVDm5mbL/MJCA8Toer3Zhm7/0lKZm59bpj1woHS7nUZFnrJsBIDzw26Fm4632XnpWKvx3Mmdry37zqmBuh2uB4Ab4D16V7nlC18o/++PPlg+/6aLyude/6ryxesPly//n/9Vjtx6pNx65LZVAVhf80F59hPAExACVctCwn3QXhyDRt/P9SEU9haMJA8fPtx8+xcA+jqZpSI7HfAA5r6di4bNxwtf+MLGdsN7M+JMHD7Sycs3dxltysNylTPnL7zwwubTowwu8WKkyQ4EH/Tvete7GnpLYfLB67LLLmvyYpSJL36WvBhk5nu+gDq/wc5pNauXNO80lgBM8p2YmDyhLgaopF2gGwAlcZKS95E81/A1pND2ut3S6TLqWihT09ONhL1n70SZmZlpJO/OzHSZmp4p09MzTb6Tk5NlemamTE5Nl7nZ2QZwp6emyuTUTJmd7ZWpqekTk4HNAuAaIDOz9MObpSaudtMohKHxnHh+AxDXRRVmABDWT5NnbngkPb7J36zXLJ5hWP05QrS5zZzNym2F0ljDc/Um3lK0NbDxGkg7TPsFCKNaQWvnd9719fLVz/xl+avf/NXyyX/3nPLpn/+J8pe/+NPl0//xueXG//Qz5Qvvvr7c8rWbyr333n+izfeXWt7yBVjATB8AwvofOwx770mdpGPA5fx3dhf6lY/O5wx24AgoGVW+4Q1vaGw+SNKkZWALSPNhe/2aYSSg1Dd90J5UKl6eMeZkhMmG5FWvelVTNhMBfVrYDTfc0PR16diQ6MP44OGcehMCNiPKDJjlky2QH/rQh5pyR1JXB+N0pV2NJQD3er2yZ+/epwDr3NxcA5QsogEc4N21e/ey6nedADw1M1OmJidLpztbSMR7JiYbqbbbTAD2lsWlpSYv6mrStnKZCMz2eqVLJb44X/ZOTDYA3e3NnlBZbwYA6/yf/OQnmxkvS2QzS4B32223NR9a0EmpkHQg1sqsolkp63jWl3Qirlmy9KHRWQ0GZtmMrKQBkvhTGaGVzkxb/p7NzOVtULD/V946GwtoX0zSCPGXPgCbBpqyyLe2lB6nzti+y/atgbRDrr6xFgBG/82/v6fc8PuXl4/9639c/uLH/1n59It+sXzmNb9S/u9v/JvyuZf/0/L53/7Zcttff7w89PDwT3HKW78ASqRFfYGxZAwk9RHqY3v1r7322savb9l9ANz0c/1RXwfiPrRCCmVICYABIfBlPElyzbvqv0ATb6BLxawMwFU5vB9Qt93QeKAfv/Wtb236sr6Kp3Lr24wx8br00ksbP8k9krFPkhoTGG4CYOBs0m1Coez5DbZvK1l7yfJOYwnAiwsL5ayzz34KuJJc9+2jLp5qtiXNzc8/BaTFr6R6TlwkYGrj2bmFcqBRQeM5W/bs3dNIv3j3uqTdqUbqZRAWCRjQzs32SseWqIW5QmommU9OTpX9x43FNgrAGr2bVTOVFDUTa2UqKQdhaPg6n1kv1RKwtdcXrU6os7Bq1gGAps4mHj0ewB0fnYg0AFx1OLNw6QGujipMWhbXZuHKoCwsrjPjBsg6tgECkCt3Gie/g0F0XDwMFvIQ3l5tDWxFDaQtctcKwD5B+Le3f6Fc8pGXlmt+6Z+Uj7/k3PKOd3+iXPtHny3/8+MfKEf//GfL3Z96bvnmly4qDz28uhGW/qFPAznASlWr/wA/al+ADGT1EWCmD+sz+igJU9/U16UHtCRT/Urad77znc24AMQBr/fVR/VZ2i58TT4ArnDlePvb3970c8+RiPEnNVM5216Ij8N5TAyMJwFwaamc0aP17DYuKbcyUW+bbOQ32Irfe6vyyDuNJQADyb1795bp6ell46g+wyhrtFTU1msBa0A1IDvMra2gqbCXlvaXQwcPNXuLgefSvsUyOzfXrPPiSdoGvgcPHirNui+pd2mp8TeudeOFxXLgwMEyvzB/It1GATg/rg6qU5pRcs1EdURSLUmYdOpwDNIoSVYnE69D6JhuHVlas2B+nc2l49g6RA0GgAGo2Sq+AFgnNgvnF6fzU30BeZKzcOAuPyCrrHgBdwd7xADDoGfgkZeyBqS3qqO0+ZzZNZC+xF0rAEvz6a/8efmvH/35csFbf6a88a0fKb9y/ZHyiuu+Vi78g1vKTZ9/dfmHL/1oue/LrygPPfTAUKCpy8CvbyhLwvU/d55Xc/X/Or1+lzQmt+l7CRvm6ouD4qSvVcdokqc4YwAJHqC7TfhNGuo06OtnPMbpSr2NLQADyL2TE43aeWFxsZGGhZFOJyaWwwFdwJc7DHgTXgNwne6k/9CpgN4H/idpT7WMTtxmALCOZLYJdAGgAzKAp9mlWSzpFFiamQJHYEzKBZr80gBF4EiVBTDRAUFXABsvKizSMLURiReNmbfZOaCWp/yVCcDq/G6zW0Cdgz6E6dRmwiRmjRRv60dm4iYKabjj1Bnbd9m+NZD2xtU+16KCluZLt3++XHXjBeXqT1xUrv7jG8uFH7i9nP/+I+VtN9xRbv/K1eWRW361PHjbW8u3v72yCjrl0IcG+YXVcaEZ5oY27jC6YeFJx40fbe3vTytO/zfuBLw96+vqNfThETfh27eVrL1keaexBWBgxjKZ9fOePXuaNVjrsCRjkm8/+KIP0K7kBiRPp7tZAEwi1dABnQZupmtm6UfPlgHqaLPS0PG7AS/w00HwQZ/BR+MxO6WaQqOjeJZGXm5+9Pi6pU+jq11lwsfgJpxLNZbZb/KpZ+no2qutga2ogbqtrgeAH338u+Wh79xfHvzO/eWhbz9S7n/4sXLfw4+Vh771WHn80QfLE4/dW5547MGnANeg96rLET+6+Nfj9qevn2v/qLzXk2YtvPEflyvvPdYAXIMq6bfellQD6EqAu5VxKdNmALAfODNI7qA7NHVcf1ie46J1rZSmjotf+kH3oHgDnfDQD6IZl47Yvsf2roG0Qe56AFi6J5584vitT568n3xSG899sn9s7xpZX+nqelzNv74cdlaq1MFYAXDAMkA2qpt0T7eb8m4EgDXD/LhxBwFY4jbTrUFzGN9BNAa2mr6/vKRwknCddmd1t7a0O7UG6nZZAzADI3YRid+p79eWe+trIG2GO5YADEgDZoPcOv7pBt06/5R1IwBc/7jxUwezWo5aN+Gb6VJFW6dlsDXMIIQ1pvVgWw7kbUCzlmw9mhpaGBp8sgZM/R2DMGvAAeGt7zZtjmdiDdR9RHu1PKONBoDTHmu61n9Smm/rYnBdpN0Ym+3jtuwWQ7XEpe62U7/7vnPPPXektdoa2HaK/3QAsMHCLItxlB8ZONo3aF02P7D1VZbH4vz41msNMADboCNOWmu6rBf7LzT2EUvDgOumm246wVseeKJhEMbIi7U1VzkYceEpTv4MwYAvgy5ld/yeOHnjkTL3l6F9bmvgdNRA2lvasUFSX2CVz35CeHu1NbDeGjA2EywIMC0AH/+04NMF2JsNwLYf2XcL1FgW20ZkCwCJkmWzHx4IomGJbL8toCPF2iqERsOw549FNOtFltUGHnFA3f4/g5H9e9JSy7GYziyO6wbmLKtJuiRgedioz3oa4LOW5iqbhugZSAN/hwYIZ8UdKX69Db5N19bAWmqgBmATQG2TkaFJo75jgsg16bStTp9r77YOVmoD2oo2Y9zkGuO0KQKINpaxM21vLe31dNOOJAEDMiAaN4AagOsPT/zT7aZ8m6WCJl0CXYOGE2ZsBbLh3ulTQI2kyaUC8cNHWpaORCuNGRrARQcANRjA/eEPf7gBbNuNDEK2CpGqxdnbqxFZuwXgeANO6mf8gK+yAF88NT4AL73j6wC57Ukkajw8ewdqdPzwbq+2BraiBjIIcrU7g6R2SnWofWrD2banzVo+cdJUe7d10N8GtA1thHBhDNR2tCFtSZuKxrFuc/zb6VoRgANga3GfbtCt80+5NwuASZokVaDmCDg/Nj+VLjADvGbtQNTeXdIxGpItQLzgggsaKVUjALCOnNNQIgkYjACjZ9IsSRt/oC+N9V1LBqRig5fyAHLgbW3XLS/qZlIzPoAfD1K556islY0EjU8LwNupS453WerBULvLhNBE0MRUf7E/Xls3mXQ7La692zoY1Aa0D21FmyG4aEPaEtsCbUsbq9sc/3a6BgJwgKt2AZvngBm3ju/310D4dPlTppTZtinbpxyh6UQtt1Nj/CjDQKj+8fyg1B1uPzLw5AJTYVHnaggA0Fow0CMZA1QqEqo2a15mbe7wl3/ulMfBG9KEhuRqgJIPWmCNrxlfaICzRhkarpmhcqLxTJ2DBo+k206Nsi3L+NZA2ltc/cPEU1/RL2h09BGTWf1Ie2/vtg6GtQFtRFvRZoyDxjltaSeon/XyUwA4oFW7gMoBHE68ag7h2L27cZ3H7IMIAK2mj//pAt7km3JsFgAbNGqQzCBSA9mgsKThAnGAaO3XrC30XFf9bHAaxLum6Y9PXqHpfxY+KGx8h/z2zbZTDaRdxtUWA8ImmJnUWr5xnCIbh/Zu62BYG9BG3ICXzYs2BHwHSb/bqR+kLE8B4AAWF4iRGIHsM57xjPLDP/zDQ2/xzTnRA6TigOHT4eZ9NgLAKiqDxSjuSvQGGzw0jszQwjM/SJ5Ph7tS2ZJ/67Y1cDproG7X8slkUJ9w09DQ7LhzilzrLp+m19bD8HrQXoyp2o8Jnbtua/zb8ToBwAGruD588MxnPrP80A/9UAO8P/IjPzIUgIEzunPOOadR64ZH3KcTfJVhMwE4A0Z+3DwHXIUnLBIsFQmL5zqNwaZuJEmT9BqSr55QrdR027ERtWVqa2CtNZC+ULv6gLbuDiDnuXWX66Wth6fWQ387qcfRum2ttX1uFf1AAJ6dnW3AdyWp9wd/8AeLu5/mrLPOar5aFPDlbjUA13lvJgBr/FQhWXM168o5zdav8oOjyXqWWav1YWvNGktorHVRnWgwCYsrH2u7DKhYOscIS3x7tTUwDjWQtj7IzSDauiftQtq6GK0uBrWn7TxungLA1nOBaD+w9j9///d/f/mBH/iBgXQk4XpdeFwAGKiyOn7ve9/bgKotQhdffHFjzWxvL0C1rch3Oq+77rrm+5wMAqxL2HcLjDUG1nxofJQbuLLiu+iii8oll1xSzj///OaZWb31MPHoA9TjMPi279DWgBoYNli24YNPe2rrZX31sp172/8H0POCCbssgC0AAAAASUVORK5CYII=)\n",
        "\n",
        "I recommend having **batch = 64** and **subdivisions = 16** for ultimate results. If you run into any issues then up subdivisions to 32.\n",
        "\n",
        "Make the rest of the changes to the cfg based on how many classes you are training your detector on.\n",
        "\n",
        "**Note:** \n",
        "I set my **max_batches = 6000**, **steps = 4800, 5400**, I changed the **classes = 1** in the three YOLO layers and **filters = 18** in the three convolutional layers before the YOLO layers.\n",
        "\n",
        "How to Configure Your Variables:\n",
        "\n",
        "width = 416\n",
        "\n",
        "height = 416\n",
        "**(these can be any multiple of 32, 416 is standard, you can sometimes improve results by making value larger like 608 but will slow down training)**\n",
        "\n",
        "max_batches = (# of classes) * 2000\n",
        "**(but no less than 6000 so if you are training for 1, 2, or 3 classes it will be 6000, however detector for 5 classes would have max_batches=10000)**\n",
        "\n",
        "steps = (80% of max_batches), (90% of max_batches)\n",
        "**(so if your max_batches = 10000, then steps = 8000, 9000)**\n",
        "\n",
        "filters = (# of classes + 5) * 3\n",
        "**(so if you are training for one class then your filters = 18, but if you are training for 4 classes then your filters = 27)**\n",
        "\n",
        "\n",
        "**Optional:** If you run into memory issues or find the training taking a super long time. In each of the three yolo layers in the cfg, change one line from random = 1 to **random = 0** to speed up training but slightly reduce accuracy of model. Will also help save memory if you run into any memory issues.\n"
      ]
    },
    {
      "cell_type": "code",
      "execution_count": null,
      "metadata": {
        "id": "kXkXb1tlLCnE"
      },
      "outputs": [],
      "source": [
        "# upload the custom .cfg back to cloud VM from Google Drive\n",
        "!cp /mydrive/yolov4/yolov4-obj.cfg ./cfg"
      ]
    },
    {
      "cell_type": "code",
      "execution_count": null,
      "metadata": {
        "id": "1vuqvzvLUtw2"
      },
      "outputs": [],
      "source": [
        "# upload the obj.names and obj.data files to cloud VM from Google Drive\n",
        "!cp /mydrive/yolov4/obj.names ./data\n",
        "!cp /mydrive/yolov4/obj.data  ./data"
      ]
    },
    {
      "cell_type": "code",
      "execution_count": null,
      "metadata": {
        "id": "4mgiK3C2ZF0k"
      },
      "outputs": [],
      "source": [
        "# upload the generate_train.py and generate_test.py script to cloud VM from Google Drive\n",
        "!cp /mydrive/yolov4/generate_train.py ./\n",
        "!cp /mydrive/yolov4/generate_test.py ./"
      ]
    },
    {
      "cell_type": "markdown",
      "metadata": {
        "id": "eq9gDuAaJWM6"
      },
      "source": [
        "Now simply run both scripts to do the work for you of generating the two txt files."
      ]
    },
    {
      "cell_type": "code",
      "execution_count": null,
      "metadata": {
        "id": "DAKjJSJwJb5R"
      },
      "outputs": [],
      "source": [
        "!python generate_train.py\n",
        "!python generate_test.py"
      ]
    },
    {
      "cell_type": "code",
      "execution_count": null,
      "metadata": {
        "id": "nv5yDQptaJRE"
      },
      "outputs": [],
      "source": [
        "# verify that the newly generated train.txt and test.txt can be seen in our darknet/data folder\n",
        "!ls data/"
      ]
    },
    {
      "cell_type": "markdown",
      "metadata": {
        "id": "nrkC4l-PbmNS"
      },
      "source": [
        "# Step 4: Download pre-trained weights for the convolutional layers."
      ]
    },
    {
      "cell_type": "code",
      "execution_count": null,
      "metadata": {
        "id": "KcUKbtO-byOE"
      },
      "outputs": [],
      "source": [
        "!wget https://github.com/AlexeyAB/darknet/releases/download/darknet_yolo_v3_optimal/yolov4.conv.137"
      ]
    },
    {
      "cell_type": "markdown",
      "metadata": {
        "id": "POozxsvFdXTu"
      },
      "source": [
        "# Step 5: Train Your Custom Object Detector!\n",
        "\n",
        "```\n",
        "!./darknet detector train <path to obj.data> <path to custom config> yolov4.conv.137 -dont_show -map\n",
        "```\n",
        "```\n",
        "function ClickConnect(){\n",
        "console.log(\"Working\"); \n",
        "document\n",
        "  .querySelector('#top-toolbar > colab-connect-button')\n",
        "  .shadowRoot.querySelector('#connect')\n",
        "  .click() \n",
        "}\n",
        "setInterval(ClickConnect,60000)\n",
        "```\n",
        "Looks like this, it will click the screen every 10 minutes so that you don't get kicked off for being idle! HACKS!\n",
        "\n",
        "![image.png](data:image/png;base64,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)"
      ]
    },
    {
      "cell_type": "code",
      "execution_count": null,
      "metadata": {
        "id": "imc0NP19hLuq"
      },
      "outputs": [],
      "source": [
        "# train your custom detector! (uncomment %%capture below if you run into memory issues or your Colab is crashing)\n",
        "#%%capture\n",
        "#!./darknet detector train data/obj.data cfg/yolov4-obj.cfg yolov4.conv.137 /mydrive/yolov4/backup/yolov4-obj_last.weights -dont_show "
      ]
    },
    {
      "cell_type": "markdown",
      "metadata": {
        "id": "5GjIkYFjhnYL"
      },
      "source": [
        "After training, you can observe a chart of how your model did throughout the training process by running the below command. It shows a chart of your average loss vs. iterations. For your model to be 'accurate' you should aim for a loss under 2."
      ]
    },
    {
      "cell_type": "code",
      "execution_count": null,
      "metadata": {
        "id": "uXPGYKmchv7Z"
      },
      "outputs": [],
      "source": [
        "# show chart.png of how custom object detector did with training\n",
        "imShow('chart.png')"
      ]
    },
    {
      "cell_type": "code",
      "execution_count": null,
      "metadata": {
        "id": "Fl7PsmikjCBW"
      },
      "outputs": [],
      "source": [
        "# kick off training from where it last saved\n",
        "!./darknet detector train data/obj.data cfg/yolov4-obj.cfg /mydrive/yolov4/backup/yolov4-obj_last.weights -dont_show"
      ]
    },
    {
      "cell_type": "markdown",
      "metadata": {
        "id": "HcIxKh60Vo6T"
      },
      "source": [
        "ls data"
      ]
    },
    {
      "cell_type": "code",
      "execution_count": null,
      "metadata": {
        "id": "2UoSBmTFlNep"
      },
      "outputs": [],
      "source": [
        "!./darknet detector map data/obj.data cfg/yolov4-obj.cfg /mydrive/yolov4/backup/yolov4-obj_1000.weights"
      ]
    },
    {
      "cell_type": "markdown",
      "metadata": {
        "id": "8dfPY2h39m-T"
      },
      "source": [
        "# Step 7: Run Your Custom Object Detector!!!\n",
        "You have done it! You now have a custom object detector to make your very own detections. Time to test it out and have some fun!"
      ]
    },
    {
      "cell_type": "code",
      "execution_count": null,
      "metadata": {
        "id": "xXkZNeA09o2f"
      },
      "outputs": [],
      "source": [
        "# need to set our custom cfg to test mode \n",
        "%cd cfg\n",
        "!sed -i 's/batch=64/batch=1/' yolov4-obj.cfg\n",
        "!sed -i 's/subdivisions=16/subdivisions=1/' yolov4-obj.cfg\n",
        "%cd .."
      ]
    },
    {
      "cell_type": "code",
      "execution_count": null,
      "metadata": {
        "id": "o7IIzEal90dA"
      },
      "outputs": [],
      "source": [
        "# run your custom detector with this command (upload an image to your google drive to test, thresh flag sets accuracy that detection must be in order to show it)\n",
        "!./darknet detector test data/obj.data cfg/yolov4-obj.cfg /mydrive/yolov4/backup/yolov4-obj_40000.weights /mydrive/images/eggBread.jpeg -thresh 0.3\n",
        "imShow('predictions.jpg')"
      ]
    },
    {
      "cell_type": "markdown",
      "metadata": {
        "id": "k2Tn1o1AQ2F7"
      },
      "source": [
        "# **Live Webcam Use**"
      ]
    },
    {
      "cell_type": "markdown",
      "metadata": {
        "id": "2usuu25HRCig"
      },
      "source": [
        "# Setup + Helper Functions"
      ]
    },
    {
      "cell_type": "code",
      "execution_count": null,
      "metadata": {
        "id": "fj79f7XRNDgv"
      },
      "outputs": [],
      "source": [
        "from IPython.display import display, Javascript, Image\n",
        "from google.colab.output import eval_js\n",
        "from google.colab.patches import cv2_imshow\n",
        "from base64 import b64decode, b64encode\n",
        "import cv2\n",
        "import numpy as np\n",
        "import PIL\n",
        "import io\n",
        "import html\n",
        "import time\n",
        "import matplotlib.pyplot as plt\n",
        "%matplotlib inline\n",
        "\n",
        "!git clone https://github.com/AlexeyAB/darknet\n",
        "%cd darknet\n",
        "!sed -i 's/OPENCV=0/OPENCV=1/' Makefile\n",
        "!sed -i 's/GPU=0/GPU=1/' Makefile\n",
        "!sed -i 's/CUDNN=0/CUDNN=1/' Makefile\n",
        "!sed -i 's/CUDNN_HALF=0/CUDNN_HALF=1/' Makefile\n",
        "!sed -i 's/LIBSO=0/LIBSO=1/' Makefile\n",
        "!make"
      ]
    },
    {
      "cell_type": "code",
      "execution_count": null,
      "metadata": {
        "id": "ifw1ZMufxqlj"
      },
      "outputs": [],
      "source": [
        "# function to convert the JavaScript object into an OpenCV image\n",
        "def js_to_image(js_reply):\n",
        "  \"\"\"\n",
        "  Params:\n",
        "          js_reply: JavaScript object containing image from webcam\n",
        "  Returns:\n",
        "          img: OpenCV BGR image\n",
        "  \"\"\"\n",
        "  # decode base64 image\n",
        "  image_bytes = b64decode(js_reply.split(',')[1])\n",
        "  # convert bytes to numpy array\n",
        "  jpg_as_np = np.frombuffer(image_bytes, dtype=np.uint8)\n",
        "  # decode numpy array into OpenCV BGR image\n",
        "  img = cv2.imdecode(jpg_as_np, flags=1)\n",
        "\n",
        "  return img\n",
        "\n",
        "# function to convert OpenCV Rectangle bounding box image into base64 byte string to be overlayed on video stream\n",
        "def bbox_to_bytes(bbox_array):\n",
        "  \"\"\"\n",
        "  Params:\n",
        "          bbox_array: Numpy array (pixels) containing rectangle to overlay on video stream.\n",
        "  Returns:\n",
        "        bytes: Base64 image byte string\n",
        "  \"\"\"\n",
        "  # convert array into PIL image\n",
        "  bbox_PIL = PIL.Image.fromarray(bbox_array, 'RGBA')\n",
        "  iobuf = io.BytesIO()\n",
        "  # format bbox into png for return\n",
        "  bbox_PIL.save(iobuf, format='png')\n",
        "  # format return string\n",
        "  bbox_bytes = 'data:image/png;base64,{}'.format((str(b64encode(iobuf.getvalue()), 'utf-8')))\n",
        "\n",
        "  return bbox_bytes"
      ]
    },
    {
      "cell_type": "code",
      "execution_count": null,
      "metadata": {
        "id": "h1XG8pFhzDN6"
      },
      "outputs": [],
      "source": [
        "def take_photo(filename='photo.jpg', quality=0.8):\n",
        "  js = Javascript('''\n",
        "    async function takePhoto(quality) {\n",
        "      const div = document.createElement('div');\n",
        "      const capture = document.createElement('button');\n",
        "      capture.textContent = 'Capture';\n",
        "      div.appendChild(capture);\n",
        "\n",
        "      const video = document.createElement('video');\n",
        "      video.style.display = 'block';\n",
        "      const stream = await navigator.mediaDevices.getUserMedia({video: true});\n",
        "\n",
        "      document.body.appendChild(div);\n",
        "      div.appendChild(video);\n",
        "      video.srcObject = stream;\n",
        "      await video.play();\n",
        "\n",
        "      // Resize the output to fit the video element.\n",
        "      google.colab.output.setIframeHeight(document.documentElement.scrollHeight, true);\n",
        "\n",
        "      // Wait for Capture to be clicked.\n",
        "      await new Promise((resolve) => capture.onclick = resolve);\n",
        "\n",
        "      const canvas = document.createElement('canvas');\n",
        "      canvas.width = video.videoWidth;\n",
        "      canvas.height = video.videoHeight;\n",
        "      canvas.getContext('2d').drawImage(video, 0, 0);\n",
        "      stream.getVideoTracks()[0].stop();\n",
        "      div.remove();\n",
        "      return canvas.toDataURL('image/jpeg', quality);\n",
        "    }\n",
        "    ''')\n",
        "  display(js)\n",
        "\n",
        "  # get photo data\n",
        "  data = eval_js('takePhoto({})'.format(quality))\n",
        "  # get OpenCV format image\n",
        "  img = js_to_image(data) \n",
        "  \n",
        "  # call our darknet helper on webcam image\n",
        "  detections, width_ratio, height_ratio = darknet_helper(img, width, height)\n",
        "\n",
        "  # loop through detections and draw them on webcam image\n",
        "  for label, confidence, bbox in detections:\n",
        "    left, top, right, bottom = bbox2points(bbox)\n",
        "    left, top, right, bottom = int(left * width_ratio), int(top * height_ratio), int(right * width_ratio), int(bottom * height_ratio)\n",
        "    cv2.rectangle(img, (left, top), (right, bottom), class_colors[label], 2)\n",
        "    cv2.putText(img, \"{} [{:.2f}]\".format(label, float(confidence)),\n",
        "                      (left, top - 5), cv2.FONT_HERSHEY_SIMPLEX, 0.5,\n",
        "                      class_colors[label], 2)\n",
        "  # save image\n",
        "  cv2.imwrite(filename, img)\n",
        "\n",
        "  return filename"
      ]
    },
    {
      "cell_type": "code",
      "execution_count": null,
      "metadata": {
        "id": "U9Ah93lc2n27"
      },
      "outputs": [],
      "source": [
        "\n",
        "from darknet import * #do not forget this line --- IMPORTANT\n",
        "network, class_names, class_colors = load_network(\"/content/gdrive/MyDrive/yolov4/yolov4-obj.cfg\", \"/content/gdrive/MyDrive/yolov4/obj.data\", \"/content/gdrive/MyDrive/yolov4/backup/yolov4-obj_40000.weights\")"
      ]
    },
    {
      "cell_type": "code",
      "execution_count": null,
      "metadata": {
        "id": "qXvvcLQUzem_"
      },
      "outputs": [],
      "source": [
        "width = 416\n",
        "height = 416\n",
        "\n",
        "\n",
        "def darknet_helper(img, width, height):\n",
        "  darknet_image = make_image(width, height, 3)\n",
        "  img_rgb = cv2.cvtColor(img, cv2.COLOR_BGR2RGB)\n",
        "  img_resized = cv2.resize(img_rgb, (width, height),\n",
        "                              interpolation=cv2.INTER_LINEAR)\n",
        "\n",
        "  # get image ratios to convert bounding boxes to proper size\n",
        "  img_height, img_width, _ = img.shape\n",
        "  width_ratio = img_width/width\n",
        "  height_ratio = img_height/height\n",
        "\n",
        "  # run model on darknet style image to get detections\n",
        "  copy_image_from_bytes(darknet_image, img_resized.tobytes())\n",
        "  detections = detect_image(network, class_names, darknet_image)\n",
        "  free_image(darknet_image)\n",
        "  return detections, width_ratio, height_ratio"
      ]
    },
    {
      "cell_type": "code",
      "execution_count": null,
      "metadata": {
        "id": "xZk68RUQW3Xq"
      },
      "outputs": [],
      "source": [
        "# JavaScript to properly create our live video stream using our webcam as input\n",
        "def video_stream():\n",
        "  js = Javascript('''\n",
        "    var video;\n",
        "    var div = null;\n",
        "    var stream;\n",
        "    var captureCanvas;\n",
        "    var imgElement;\n",
        "    var labelElement;\n",
        "    \n",
        "    var pendingResolve = null;\n",
        "    var shutdown = false;\n",
        "    \n",
        "    function removeDom() {\n",
        "       stream.getVideoTracks()[0].stop();\n",
        "       video.remove();\n",
        "       div.remove();\n",
        "       video = null;\n",
        "       div = null;\n",
        "       stream = null;\n",
        "       imgElement = null;\n",
        "       captureCanvas = null;\n",
        "       labelElement = null;\n",
        "    }\n",
        "    \n",
        "    function onAnimationFrame() {\n",
        "      if (!shutdown) {\n",
        "        window.requestAnimationFrame(onAnimationFrame);\n",
        "      }\n",
        "      if (pendingResolve) {\n",
        "        var result = \"\";\n",
        "        if (!shutdown) {\n",
        "          captureCanvas.getContext('2d').drawImage(video, 0, 0, 640, 480);\n",
        "          result = captureCanvas.toDataURL('image/jpeg', 0.8)\n",
        "        }\n",
        "        var lp = pendingResolve;\n",
        "        pendingResolve = null;\n",
        "        lp(result);\n",
        "      }\n",
        "    }\n",
        "    \n",
        "    async function createDom() {\n",
        "      if (div !== null) {\n",
        "        return stream;\n",
        "      }\n",
        "\n",
        "      div = document.createElement('div');\n",
        "      div.style.border = '2px solid black';\n",
        "      div.style.padding = '3px';\n",
        "      div.style.width = '100%';\n",
        "      div.style.maxWidth = '600px';\n",
        "      document.body.appendChild(div);\n",
        "      \n",
        "      const modelOut = document.createElement('div');\n",
        "      modelOut.innerHTML = \"<span>Status:</span>\";\n",
        "      labelElement = document.createElement('span');\n",
        "      labelElement.innerText = 'No data';\n",
        "      labelElement.style.fontWeight = 'bold';\n",
        "      modelOut.appendChild(labelElement);\n",
        "      div.appendChild(modelOut);\n",
        "           \n",
        "      video = document.createElement('video');\n",
        "      video.style.display = 'block';\n",
        "      video.width = div.clientWidth - 6;\n",
        "      video.setAttribute('playsinline', '');\n",
        "      video.onclick = () => { shutdown = true; };\n",
        "      stream = await navigator.mediaDevices.getUserMedia(\n",
        "          {video: { facingMode: \"environment\"}});\n",
        "      div.appendChild(video);\n",
        "\n",
        "      imgElement = document.createElement('img');\n",
        "      imgElement.style.position = 'absolute';\n",
        "      imgElement.style.zIndex = 1;\n",
        "      imgElement.onclick = () => { shutdown = true; };\n",
        "      div.appendChild(imgElement);\n",
        "      \n",
        "      const instruction = document.createElement('div');\n",
        "      instruction.innerHTML = \n",
        "          '<span style=\"color: red; font-weight: bold;\">' +\n",
        "          'When finished, click here or on the video to stop this demo</span>';\n",
        "      div.appendChild(instruction);\n",
        "      instruction.onclick = () => { shutdown = true; };\n",
        "      \n",
        "      video.srcObject = stream;\n",
        "      await video.play();\n",
        "\n",
        "      captureCanvas = document.createElement('canvas');\n",
        "      captureCanvas.width = 640; //video.videoWidth;\n",
        "      captureCanvas.height = 480; //video.videoHeight;\n",
        "      window.requestAnimationFrame(onAnimationFrame);\n",
        "      \n",
        "      return stream;\n",
        "    }\n",
        "    async function stream_frame(label, imgData) {\n",
        "      if (shutdown) {\n",
        "        removeDom();\n",
        "        shutdown = false;\n",
        "        return '';\n",
        "      }\n",
        "\n",
        "      var preCreate = Date.now();\n",
        "      stream = await createDom();\n",
        "      \n",
        "      var preShow = Date.now();\n",
        "      if (label != \"\") {\n",
        "        labelElement.innerHTML = label;\n",
        "      }\n",
        "            \n",
        "      if (imgData != \"\") {\n",
        "        var videoRect = video.getClientRects()[0];\n",
        "        imgElement.style.top = videoRect.top + \"px\";\n",
        "        imgElement.style.left = videoRect.left + \"px\";\n",
        "        imgElement.style.width = videoRect.width + \"px\";\n",
        "        imgElement.style.height = videoRect.height + \"px\";\n",
        "        imgElement.src = imgData;\n",
        "      }\n",
        "      \n",
        "      var preCapture = Date.now();\n",
        "      var result = await new Promise(function(resolve, reject) {\n",
        "        pendingResolve = resolve;\n",
        "      });\n",
        "      shutdown = false;\n",
        "      \n",
        "      return {'create': preShow - preCreate, \n",
        "              'show': preCapture - preShow, \n",
        "              'capture': Date.now() - preCapture,\n",
        "              'img': result};\n",
        "    }\n",
        "    ''')\n",
        "\n",
        "  display(js)\n",
        "  \n",
        "def video_frame(label, bbox):\n",
        "  data = eval_js('stream_frame(\"{}\", \"{}\")'.format(label, bbox))\n",
        "  return data"
      ]
    },
    {
      "cell_type": "markdown",
      "metadata": {
        "id": "9xs2NErRRT8D"
      },
      "source": [
        "# Run Webcam Application"
      ]
    },
    {
      "cell_type": "code",
      "execution_count": null,
      "metadata": {
        "id": "RPDr23YFW_7c"
      },
      "outputs": [],
      "source": [
        "# start streaming video from webcam\n",
        "video_stream()\n",
        "# label for video\n",
        "label_html = 'Capturing...'\n",
        "# initialze bounding box to empty\n",
        "bbox = ''\n",
        "count = 0 \n",
        "res = set()\n",
        "while True:\n",
        "    js_reply = video_frame(label_html, bbox)\n",
        "    if not js_reply:\n",
        "        break\n",
        "\n",
        "    # convert JS response to OpenCV Image\n",
        "    frame = js_to_image(js_reply[\"img\"])\n",
        "\n",
        "    # create transparent overlay for bounding box\n",
        "    bbox_array = np.zeros([480,640,4], dtype=np.uint8)\n",
        "\n",
        "    # call our darknet helper on video frame\n",
        "    detections, width_ratio, height_ratio = darknet_helper(frame, width, height)\n",
        "\n",
        "    # loop through detections and draw them on transparent overlay image\n",
        "    for label, confidence, bbox in detections:\n",
        "      res.add(label)\n",
        "      left, top, right, bottom = bbox2points(bbox)\n",
        "      left, top, right, bottom = int(left * width_ratio), int(top * height_ratio), int(right * width_ratio), int(bottom * height_ratio)\n",
        "      bbox_array = cv2.rectangle(bbox_array, (left, top), (right, bottom), class_colors[label], 2)\n",
        "      bbox_array = cv2.putText(bbox_array, \"{} [{:.2f}]\".format(label, float(confidence)),\n",
        "                        (left, top - 5), cv2.FONT_HERSHEY_SIMPLEX, 0.5,\n",
        "                        class_colors[label], 2)\n",
        "\n",
        "    bbox_array[:,:,3] = (bbox_array.max(axis = 2) > 0 ).astype(int) * 255\n",
        "    # convert overlay of bbox into bytes\n",
        "    bbox_bytes = bbox_to_bytes(bbox_array)\n",
        "    # update bbox so next frame gets new overlay\n",
        "    bbox = bbox_bytes\n",
        "\n",
        "for v in res:\n",
        "  print(v)"
      ]
    }
  ],
  "metadata": {
    "accelerator": "GPU",
    "colab": {
      "collapsed_sections": [],
      "provenance": [],
      "machine_shape": "hm",
      "include_colab_link": true
    },
    "gpuClass": "premium",
    "kernelspec": {
      "display_name": "Python 3",
      "name": "python3"
    }
  },
  "nbformat": 4,
  "nbformat_minor": 0
}